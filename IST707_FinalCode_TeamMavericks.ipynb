{
 "cells": [
  {
   "cell_type": "markdown",
   "metadata": {},
   "source": [
    "## IST707 Final Course Project: Predicting US Permanent Visa Application Decisions using Machine Learning\n",
    "\n",
    "### Instructor: Professor Ying Lin\n",
    "\n",
    "### Submitted by: Aneesh Phatak, Sankalp Singh\n",
    "\n",
    "### Date of Submission: 12/11/2020"
   ]
  },
  {
   "cell_type": "markdown",
   "metadata": {},
   "source": [
    "## Problem Statement\n",
    "\n",
    "#### The objective of our project is to design a machine learning based system that could help in predicting US visa application decisions based on various input features like employer name, class of admission, country of citizenship etc.\n",
    "\n",
    "#### This system will be useful for the employers who actively file for visa applications for their international employees every year\n",
    "\n",
    "#### We will also try to identify what are the most important factors that help in predicting if a certain application will be certified or denied"
   ]
  },
  {
   "cell_type": "markdown",
   "metadata": {},
   "source": [
    "### Dataset Description\n",
    "\n",
    "#### The US Permanent Visa Applications dataset has been collected and distributed by US Department of Labor. This dataset is available on Kaggle and contains a detailed information on 374k visa decisions between 2011-2016. The target variable consists of ‘Certified’ and ‘Denied’ decisions for each application. The dataset is highly imbalanced and consists of input features like employer name, employee education, class of admission etc.\n",
    "\n",
    "#### Target attribute: case_status (0-Denied) and (1-Certified)\n",
    "\n",
    "#### Some input features:\n",
    "- case_number: contains the case number for the visa application                                      \n",
    "- class_of_admission: contains the class of admission like H1-B, F1, J1, L1 etc                               \n",
    "- country_of_citizenship: consists of country of citizenship of employees                            \n",
    "- decision_date: consists of date on which visa decision was made                                                    - employer_city: contains employer city                                      \n",
    "- employer_country: contains the employer country                                                           \n",
    "- employer_name: contains the employer name                                     \n",
    "- employer_num_employees: consists of total number of employees under an employer                           \n",
    "- employer_phone: contains the employer phone number                                                                - employer_postal_code: contains the employer postal code \n",
    "- pw_soc_code: consists of the ocuupation code assoicated with the job                                              - pw_unit_of_pay_9089: consists of income associated with the job"
   ]
  },
  {
   "cell_type": "markdown",
   "metadata": {},
   "source": [
    "### Import Libraries\n",
    "\n",
    "- Importing all the required libraries that will help us perform data pre-processing, visualizations, modeling and performance evaluation."
   ]
  },
  {
   "cell_type": "code",
   "execution_count": 2,
   "metadata": {},
   "outputs": [
    {
     "name": "stderr",
     "output_type": "stream",
     "text": [
      "Using TensorFlow backend.\n"
     ]
    }
   ],
   "source": [
    "# importing all the required libraries\n",
    "import matplotlib.pyplot as plt \n",
    "import numpy as np \n",
    "import pandas as pd \n",
    "from pandas import DataFrame, Series\n",
    "import seaborn as sns\n",
    "from scipy import stats\n",
    "from sklearn import preprocessing\n",
    "from scipy.spatial import distance_matrix\n",
    "from sklearn.model_selection import train_test_split, GridSearchCV, cross_val_score, cross_validate, ShuffleSplit, LeaveOneOut\n",
    "from sklearn import metrics\n",
    "from sklearn.metrics import accuracy_score,f1_score,confusion_matrix,precision_score,classification_report,recall_score,roc_curve,roc_auc_score\n",
    "from sklearn.preprocessing import MinMaxScaler\n",
    "from sklearn.preprocessing import StandardScaler\n",
    "from sklearn import datasets\n",
    "from sklearn.svm import SVC\n",
    "from sklearn.svm import LinearSVC\n",
    "from sklearn.ensemble import RandomForestClassifier,GradientBoostingClassifier\n",
    "from sklearn.neighbors import KNeighborsClassifier\n",
    "from sklearn.naive_bayes import MultinomialNB,GaussianNB\n",
    "import pickle\n",
    "from numpy.random import seed\n",
    "seed(1)\n",
    "import tensorflow as tf\n",
    "tf.random.set_seed(2)\n",
    "import random as rn\n",
    "import os\n",
    "from sklearn.linear_model import LogisticRegression\n",
    "from sklearn.tree import DecisionTreeClassifier\n",
    "from sklearn.preprocessing import LabelEncoder\n",
    "from keras import models\n",
    "from keras.models import Sequential\n",
    "from keras.layers import Dense\n",
    "from keras.callbacks import ModelCheckpoint\n",
    "rn.seed(12345)\n",
    "from keras import backend as K\n",
    "from collections import OrderedDict\n",
    "from sklearn.preprocessing import OneHotEncoder"
   ]
  },
  {
   "cell_type": "markdown",
   "metadata": {},
   "source": [
    "### Read the dataset\n",
    "\n",
    "- Here we are reading data set. We will be performing all the data pre-processing steps on the data set\n",
    "\n",
    "- Later on, while modeling we will be splitting the dataset into training and validation to train our model and perform hyper parameter tuning using the performance on validation set.\n"
   ]
  },
  {
   "cell_type": "code",
   "execution_count": 2,
   "metadata": {},
   "outputs": [],
   "source": [
    "# Reading training dataset\n",
    "# The parse_dates parameter used will read both the columns mentioned in datetime64[ns] format\n",
    "df = pd.read_csv('us_perm_visas.csv', \n",
    "                 low_memory = False, \n",
    "                 parse_dates=['decision_date', 'case_received_date'])"
   ]
  },
  {
   "cell_type": "code",
   "execution_count": 3,
   "metadata": {},
   "outputs": [
    {
     "data": {
      "text/plain": [
       "(374362, 154)"
      ]
     },
     "execution_count": 3,
     "metadata": {},
     "output_type": "execute_result"
    }
   ],
   "source": [
    "# check the shape of the dataset\n",
    "df.shape"
   ]
  },
  {
   "cell_type": "code",
   "execution_count": 4,
   "metadata": {},
   "outputs": [
    {
     "name": "stdout",
     "output_type": "stream",
     "text": [
      "Total Visa Applications: 374362\n",
      "Total Features: 154\n"
     ]
    }
   ],
   "source": [
    "# displaying number of rows and columns\n",
    "print('Total Visa Applications:', len(df))\n",
    "print('Total Features:', len(df.columns))"
   ]
  },
  {
   "cell_type": "code",
   "execution_count": 5,
   "metadata": {},
   "outputs": [],
   "source": [
    "# the following lines will ensure that output is not truncated.\n",
    "pd.set_option('display.max_rows', 500)\n",
    "pd.set_option('display.max_columns', 500)\n",
    "pd.set_option('display.width', 1000)"
   ]
  },
  {
   "cell_type": "code",
   "execution_count": 6,
   "metadata": {},
   "outputs": [
    {
     "data": {
      "text/plain": [
       "add_these_pw_job_title_9089                       object\n",
       "agent_city                                        object\n",
       "agent_firm_name                                   object\n",
       "agent_state                                       object\n",
       "application_type                                  object\n",
       "case_no                                           object\n",
       "case_number                                       object\n",
       "case_received_date                        datetime64[ns]\n",
       "case_status                                       object\n",
       "class_of_admission                                object\n",
       "country_of_citizenship                            object\n",
       "country_of_citzenship                             object\n",
       "decision_date                             datetime64[ns]\n",
       "employer_address_1                                object\n",
       "employer_address_2                                object\n",
       "employer_city                                     object\n",
       "employer_country                                  object\n",
       "employer_decl_info_title                          object\n",
       "employer_name                                     object\n",
       "employer_num_employees                           float64\n",
       "employer_phone                                    object\n",
       "employer_phone_ext                                object\n",
       "employer_postal_code                              object\n",
       "employer_state                                    object\n",
       "employer_yr_estab                                float64\n",
       "foreign_worker_info_alt_edu_experience            object\n",
       "foreign_worker_info_birth_country                 object\n",
       "foreign_worker_info_city                          object\n",
       "foreign_worker_info_education                     object\n",
       "foreign_worker_info_education_other               object\n",
       "foreign_worker_info_inst                          object\n",
       "foreign_worker_info_major                         object\n",
       "foreign_worker_info_postal_code                   object\n",
       "foreign_worker_info_rel_occup_exp                 object\n",
       "foreign_worker_info_req_experience                object\n",
       "foreign_worker_info_state                         object\n",
       "foreign_worker_info_training_comp                 object\n",
       "foreign_worker_ownership_interest                 object\n",
       "foreign_worker_yr_rel_edu_completed              float64\n",
       "fw_info_alt_edu_experience                        object\n",
       "fw_info_birth_country                             object\n",
       "fw_info_education_other                           object\n",
       "fw_info_postal_code                               object\n",
       "fw_info_rel_occup_exp                             object\n",
       "fw_info_req_experience                            object\n",
       "fw_info_training_comp                             object\n",
       "fw_info_yr_rel_edu_completed                     float64\n",
       "fw_ownership_interest                             object\n",
       "ji_foreign_worker_live_on_premises                object\n",
       "ji_fw_live_on_premises                            object\n",
       "ji_live_in_dom_svc_contract                       object\n",
       "ji_live_in_domestic_service                       object\n",
       "ji_offered_to_sec_j_foreign_worker                object\n",
       "ji_offered_to_sec_j_fw                            object\n",
       "job_info_alt_cmb_ed_oth_yrs                      float64\n",
       "job_info_alt_combo_ed                             object\n",
       "job_info_alt_combo_ed_exp                         object\n",
       "job_info_alt_combo_ed_other                       object\n",
       "job_info_alt_field                                object\n",
       "job_info_alt_field_name                           object\n",
       "job_info_alt_occ                                  object\n",
       "job_info_alt_occ_job_title                        object\n",
       "job_info_alt_occ_num_months                      float64\n",
       "job_info_combo_occupation                         object\n",
       "job_info_education                                object\n",
       "job_info_education_other                          object\n",
       "job_info_experience                               object\n",
       "job_info_experience_num_months                   float64\n",
       "job_info_foreign_ed                               object\n",
       "job_info_foreign_lang_req                         object\n",
       "job_info_job_req_normal                           object\n",
       "job_info_job_title                                object\n",
       "job_info_major                                    object\n",
       "job_info_training                                 object\n",
       "job_info_training_field                           object\n",
       "job_info_training_num_months                     float64\n",
       "job_info_work_city                                object\n",
       "job_info_work_postal_code                         object\n",
       "job_info_work_state                               object\n",
       "naics_2007_us_code                                object\n",
       "naics_2007_us_title                               object\n",
       "naics_code                                        object\n",
       "naics_title                                       object\n",
       "naics_us_code                                     object\n",
       "naics_us_code_2007                                object\n",
       "naics_us_title                                    object\n",
       "naics_us_title_2007                               object\n",
       "orig_case_no                                      object\n",
       "orig_file_date                                    object\n",
       "preparer_info_emp_completed                       object\n",
       "preparer_info_title                               object\n",
       "pw_amount_9089                                    object\n",
       "pw_determ_date                                    object\n",
       "pw_expire_date                                    object\n",
       "pw_job_title_908                                  object\n",
       "pw_job_title_9089                                 object\n",
       "pw_level_9089                                     object\n",
       "pw_soc_code                                       object\n",
       "pw_soc_title                                      object\n",
       "pw_source_name_9089                               object\n",
       "pw_source_name_other_9089                         object\n",
       "pw_track_num                                      object\n",
       "pw_unit_of_pay_9089                               object\n",
       "rec_info_barg_rep_notified                        object\n",
       "recr_info_barg_rep_notified                       object\n",
       "recr_info_coll_teach_comp_proc                    object\n",
       "recr_info_coll_univ_teacher                       object\n",
       "recr_info_employer_rec_payment                    object\n",
       "recr_info_first_ad_start                          object\n",
       "recr_info_job_fair_from                           object\n",
       "recr_info_job_fair_to                             object\n",
       "recr_info_on_campus_recr_from                     object\n",
       "recr_info_on_campus_recr_to                       object\n",
       "recr_info_pro_org_advert_from                     object\n",
       "recr_info_pro_org_advert_to                       object\n",
       "recr_info_prof_org_advert_from                    object\n",
       "recr_info_prof_org_advert_to                      object\n",
       "recr_info_professional_occ                        object\n",
       "recr_info_radio_tv_ad_from                        object\n",
       "recr_info_radio_tv_ad_to                          object\n",
       "recr_info_second_ad_start                         object\n",
       "recr_info_sunday_newspaper                        object\n",
       "recr_info_swa_job_order_end                       object\n",
       "recr_info_swa_job_order_start                     object\n",
       "refile                                            object\n",
       "ri_1st_ad_newspaper_name                          object\n",
       "ri_2nd_ad_newspaper_name                          object\n",
       "ri_2nd_ad_newspaper_or_journal                    object\n",
       "ri_campus_placement_from                          object\n",
       "ri_campus_placement_to                            object\n",
       "ri_coll_tch_basic_process                         object\n",
       "ri_coll_teach_pro_jnl                             object\n",
       "ri_coll_teach_select_date                         object\n",
       "ri_employee_referral_prog_from                    object\n",
       "ri_employee_referral_prog_to                      object\n",
       "ri_employer_web_post_from                         object\n",
       "ri_employer_web_post_to                           object\n",
       "ri_job_search_website_from                        object\n",
       "ri_job_search_website_to                          object\n",
       "ri_layoff_in_past_six_months                      object\n",
       "ri_local_ethnic_paper_from                        object\n",
       "ri_local_ethnic_paper_to                          object\n",
       "ri_posted_notice_at_worksite                      object\n",
       "ri_pvt_employment_firm_from                       object\n",
       "ri_pvt_employment_firm_to                         object\n",
       "ri_us_workers_considered                          object\n",
       "schd_a_sheepherder                                object\n",
       "us_economic_sector                                object\n",
       "wage_offer_from_9089                              object\n",
       "wage_offer_to_9089                                object\n",
       "wage_offer_unit_of_pay_9089                       object\n",
       "wage_offered_from_9089                           float64\n",
       "wage_offered_to_9089                             float64\n",
       "wage_offered_unit_of_pay_9089                     object\n",
       "dtype: object"
      ]
     },
     "execution_count": 6,
     "metadata": {},
     "output_type": "execute_result"
    }
   ],
   "source": [
    "# check the data types for all features\n",
    "df.dtypes"
   ]
  },
  {
   "cell_type": "code",
   "execution_count": 7,
   "metadata": {},
   "outputs": [
    {
     "data": {
      "text/html": [
       "<div>\n",
       "<style scoped>\n",
       "    .dataframe tbody tr th:only-of-type {\n",
       "        vertical-align: middle;\n",
       "    }\n",
       "\n",
       "    .dataframe tbody tr th {\n",
       "        vertical-align: top;\n",
       "    }\n",
       "\n",
       "    .dataframe thead th {\n",
       "        text-align: right;\n",
       "    }\n",
       "</style>\n",
       "<table border=\"1\" class=\"dataframe\">\n",
       "  <thead>\n",
       "    <tr style=\"text-align: right;\">\n",
       "      <th></th>\n",
       "      <th>add_these_pw_job_title_9089</th>\n",
       "      <th>agent_city</th>\n",
       "      <th>agent_firm_name</th>\n",
       "      <th>agent_state</th>\n",
       "      <th>application_type</th>\n",
       "      <th>case_no</th>\n",
       "      <th>case_number</th>\n",
       "      <th>case_received_date</th>\n",
       "      <th>case_status</th>\n",
       "      <th>class_of_admission</th>\n",
       "      <th>country_of_citizenship</th>\n",
       "      <th>country_of_citzenship</th>\n",
       "      <th>decision_date</th>\n",
       "      <th>employer_address_1</th>\n",
       "      <th>employer_address_2</th>\n",
       "      <th>employer_city</th>\n",
       "      <th>employer_country</th>\n",
       "      <th>employer_decl_info_title</th>\n",
       "      <th>employer_name</th>\n",
       "      <th>employer_num_employees</th>\n",
       "      <th>employer_phone</th>\n",
       "      <th>employer_phone_ext</th>\n",
       "      <th>employer_postal_code</th>\n",
       "      <th>employer_state</th>\n",
       "      <th>employer_yr_estab</th>\n",
       "      <th>foreign_worker_info_alt_edu_experience</th>\n",
       "      <th>foreign_worker_info_birth_country</th>\n",
       "      <th>foreign_worker_info_city</th>\n",
       "      <th>foreign_worker_info_education</th>\n",
       "      <th>foreign_worker_info_education_other</th>\n",
       "      <th>foreign_worker_info_inst</th>\n",
       "      <th>foreign_worker_info_major</th>\n",
       "      <th>foreign_worker_info_postal_code</th>\n",
       "      <th>foreign_worker_info_rel_occup_exp</th>\n",
       "      <th>foreign_worker_info_req_experience</th>\n",
       "      <th>foreign_worker_info_state</th>\n",
       "      <th>foreign_worker_info_training_comp</th>\n",
       "      <th>foreign_worker_ownership_interest</th>\n",
       "      <th>foreign_worker_yr_rel_edu_completed</th>\n",
       "      <th>fw_info_alt_edu_experience</th>\n",
       "      <th>fw_info_birth_country</th>\n",
       "      <th>fw_info_education_other</th>\n",
       "      <th>fw_info_postal_code</th>\n",
       "      <th>fw_info_rel_occup_exp</th>\n",
       "      <th>fw_info_req_experience</th>\n",
       "      <th>fw_info_training_comp</th>\n",
       "      <th>fw_info_yr_rel_edu_completed</th>\n",
       "      <th>fw_ownership_interest</th>\n",
       "      <th>ji_foreign_worker_live_on_premises</th>\n",
       "      <th>ji_fw_live_on_premises</th>\n",
       "      <th>ji_live_in_dom_svc_contract</th>\n",
       "      <th>ji_live_in_domestic_service</th>\n",
       "      <th>ji_offered_to_sec_j_foreign_worker</th>\n",
       "      <th>ji_offered_to_sec_j_fw</th>\n",
       "      <th>job_info_alt_cmb_ed_oth_yrs</th>\n",
       "      <th>job_info_alt_combo_ed</th>\n",
       "      <th>job_info_alt_combo_ed_exp</th>\n",
       "      <th>job_info_alt_combo_ed_other</th>\n",
       "      <th>job_info_alt_field</th>\n",
       "      <th>job_info_alt_field_name</th>\n",
       "      <th>job_info_alt_occ</th>\n",
       "      <th>job_info_alt_occ_job_title</th>\n",
       "      <th>job_info_alt_occ_num_months</th>\n",
       "      <th>job_info_combo_occupation</th>\n",
       "      <th>job_info_education</th>\n",
       "      <th>job_info_education_other</th>\n",
       "      <th>job_info_experience</th>\n",
       "      <th>job_info_experience_num_months</th>\n",
       "      <th>job_info_foreign_ed</th>\n",
       "      <th>job_info_foreign_lang_req</th>\n",
       "      <th>job_info_job_req_normal</th>\n",
       "      <th>job_info_job_title</th>\n",
       "      <th>job_info_major</th>\n",
       "      <th>job_info_training</th>\n",
       "      <th>job_info_training_field</th>\n",
       "      <th>job_info_training_num_months</th>\n",
       "      <th>job_info_work_city</th>\n",
       "      <th>job_info_work_postal_code</th>\n",
       "      <th>job_info_work_state</th>\n",
       "      <th>naics_2007_us_code</th>\n",
       "      <th>naics_2007_us_title</th>\n",
       "      <th>naics_code</th>\n",
       "      <th>naics_title</th>\n",
       "      <th>naics_us_code</th>\n",
       "      <th>naics_us_code_2007</th>\n",
       "      <th>naics_us_title</th>\n",
       "      <th>naics_us_title_2007</th>\n",
       "      <th>orig_case_no</th>\n",
       "      <th>orig_file_date</th>\n",
       "      <th>preparer_info_emp_completed</th>\n",
       "      <th>preparer_info_title</th>\n",
       "      <th>pw_amount_9089</th>\n",
       "      <th>pw_determ_date</th>\n",
       "      <th>pw_expire_date</th>\n",
       "      <th>pw_job_title_908</th>\n",
       "      <th>pw_job_title_9089</th>\n",
       "      <th>pw_level_9089</th>\n",
       "      <th>pw_soc_code</th>\n",
       "      <th>pw_soc_title</th>\n",
       "      <th>pw_source_name_9089</th>\n",
       "      <th>pw_source_name_other_9089</th>\n",
       "      <th>pw_track_num</th>\n",
       "      <th>pw_unit_of_pay_9089</th>\n",
       "      <th>rec_info_barg_rep_notified</th>\n",
       "      <th>recr_info_barg_rep_notified</th>\n",
       "      <th>recr_info_coll_teach_comp_proc</th>\n",
       "      <th>recr_info_coll_univ_teacher</th>\n",
       "      <th>recr_info_employer_rec_payment</th>\n",
       "      <th>recr_info_first_ad_start</th>\n",
       "      <th>recr_info_job_fair_from</th>\n",
       "      <th>recr_info_job_fair_to</th>\n",
       "      <th>recr_info_on_campus_recr_from</th>\n",
       "      <th>recr_info_on_campus_recr_to</th>\n",
       "      <th>recr_info_pro_org_advert_from</th>\n",
       "      <th>recr_info_pro_org_advert_to</th>\n",
       "      <th>recr_info_prof_org_advert_from</th>\n",
       "      <th>recr_info_prof_org_advert_to</th>\n",
       "      <th>recr_info_professional_occ</th>\n",
       "      <th>recr_info_radio_tv_ad_from</th>\n",
       "      <th>recr_info_radio_tv_ad_to</th>\n",
       "      <th>recr_info_second_ad_start</th>\n",
       "      <th>recr_info_sunday_newspaper</th>\n",
       "      <th>recr_info_swa_job_order_end</th>\n",
       "      <th>recr_info_swa_job_order_start</th>\n",
       "      <th>refile</th>\n",
       "      <th>ri_1st_ad_newspaper_name</th>\n",
       "      <th>ri_2nd_ad_newspaper_name</th>\n",
       "      <th>ri_2nd_ad_newspaper_or_journal</th>\n",
       "      <th>ri_campus_placement_from</th>\n",
       "      <th>ri_campus_placement_to</th>\n",
       "      <th>ri_coll_tch_basic_process</th>\n",
       "      <th>ri_coll_teach_pro_jnl</th>\n",
       "      <th>ri_coll_teach_select_date</th>\n",
       "      <th>ri_employee_referral_prog_from</th>\n",
       "      <th>ri_employee_referral_prog_to</th>\n",
       "      <th>ri_employer_web_post_from</th>\n",
       "      <th>ri_employer_web_post_to</th>\n",
       "      <th>ri_job_search_website_from</th>\n",
       "      <th>ri_job_search_website_to</th>\n",
       "      <th>ri_layoff_in_past_six_months</th>\n",
       "      <th>ri_local_ethnic_paper_from</th>\n",
       "      <th>ri_local_ethnic_paper_to</th>\n",
       "      <th>ri_posted_notice_at_worksite</th>\n",
       "      <th>ri_pvt_employment_firm_from</th>\n",
       "      <th>ri_pvt_employment_firm_to</th>\n",
       "      <th>ri_us_workers_considered</th>\n",
       "      <th>schd_a_sheepherder</th>\n",
       "      <th>us_economic_sector</th>\n",
       "      <th>wage_offer_from_9089</th>\n",
       "      <th>wage_offer_to_9089</th>\n",
       "      <th>wage_offer_unit_of_pay_9089</th>\n",
       "      <th>wage_offered_from_9089</th>\n",
       "      <th>wage_offered_to_9089</th>\n",
       "      <th>wage_offered_unit_of_pay_9089</th>\n",
       "    </tr>\n",
       "  </thead>\n",
       "  <tbody>\n",
       "    <tr>\n",
       "      <th>0</th>\n",
       "      <td>NaN</td>\n",
       "      <td>NaN</td>\n",
       "      <td>NaN</td>\n",
       "      <td>NaN</td>\n",
       "      <td>PERM</td>\n",
       "      <td>A-07323-97014</td>\n",
       "      <td>NaN</td>\n",
       "      <td>NaT</td>\n",
       "      <td>Certified</td>\n",
       "      <td>J-1</td>\n",
       "      <td>NaN</td>\n",
       "      <td>ARMENIA</td>\n",
       "      <td>2012-02-01</td>\n",
       "      <td>24 WEST 25 STREET</td>\n",
       "      <td>5TH FLOOR</td>\n",
       "      <td>NEW YORK</td>\n",
       "      <td>NaN</td>\n",
       "      <td>NaN</td>\n",
       "      <td>NETSOFT USA INC.</td>\n",
       "      <td>NaN</td>\n",
       "      <td>NaN</td>\n",
       "      <td>NaN</td>\n",
       "      <td>10010.0</td>\n",
       "      <td>NY</td>\n",
       "      <td>NaN</td>\n",
       "      <td>NaN</td>\n",
       "      <td>NaN</td>\n",
       "      <td>NaN</td>\n",
       "      <td>NaN</td>\n",
       "      <td>NaN</td>\n",
       "      <td>NaN</td>\n",
       "      <td>NaN</td>\n",
       "      <td>NaN</td>\n",
       "      <td>NaN</td>\n",
       "      <td>NaN</td>\n",
       "      <td>NaN</td>\n",
       "      <td>NaN</td>\n",
       "      <td>NaN</td>\n",
       "      <td>NaN</td>\n",
       "      <td>NaN</td>\n",
       "      <td>NaN</td>\n",
       "      <td>NaN</td>\n",
       "      <td>NaN</td>\n",
       "      <td>NaN</td>\n",
       "      <td>NaN</td>\n",
       "      <td>NaN</td>\n",
       "      <td>NaN</td>\n",
       "      <td>NaN</td>\n",
       "      <td>NaN</td>\n",
       "      <td>NaN</td>\n",
       "      <td>NaN</td>\n",
       "      <td>NaN</td>\n",
       "      <td>NaN</td>\n",
       "      <td>NaN</td>\n",
       "      <td>NaN</td>\n",
       "      <td>NaN</td>\n",
       "      <td>NaN</td>\n",
       "      <td>NaN</td>\n",
       "      <td>NaN</td>\n",
       "      <td>NaN</td>\n",
       "      <td>NaN</td>\n",
       "      <td>NaN</td>\n",
       "      <td>NaN</td>\n",
       "      <td>NaN</td>\n",
       "      <td>NaN</td>\n",
       "      <td>NaN</td>\n",
       "      <td>NaN</td>\n",
       "      <td>NaN</td>\n",
       "      <td>NaN</td>\n",
       "      <td>NaN</td>\n",
       "      <td>NaN</td>\n",
       "      <td>NaN</td>\n",
       "      <td>NaN</td>\n",
       "      <td>NaN</td>\n",
       "      <td>NaN</td>\n",
       "      <td>NaN</td>\n",
       "      <td>New York</td>\n",
       "      <td>NaN</td>\n",
       "      <td>NY</td>\n",
       "      <td>541512</td>\n",
       "      <td>Computer Systems Design Services</td>\n",
       "      <td>NaN</td>\n",
       "      <td>NaN</td>\n",
       "      <td>NaN</td>\n",
       "      <td>NaN</td>\n",
       "      <td>NaN</td>\n",
       "      <td>NaN</td>\n",
       "      <td>NaN</td>\n",
       "      <td>NaN</td>\n",
       "      <td>NaN</td>\n",
       "      <td>NaN</td>\n",
       "      <td>75629.0</td>\n",
       "      <td>NaN</td>\n",
       "      <td>NaN</td>\n",
       "      <td>NaN</td>\n",
       "      <td>Computer Software Engineers, Applications</td>\n",
       "      <td>Level II</td>\n",
       "      <td>15-1031.00</td>\n",
       "      <td>Computer Software Engineers, Applications</td>\n",
       "      <td>OES</td>\n",
       "      <td>NaN</td>\n",
       "      <td>NaN</td>\n",
       "      <td>yr</td>\n",
       "      <td>NaN</td>\n",
       "      <td>NaN</td>\n",
       "      <td>NaN</td>\n",
       "      <td>NaN</td>\n",
       "      <td>NaN</td>\n",
       "      <td>NaN</td>\n",
       "      <td>NaN</td>\n",
       "      <td>NaN</td>\n",
       "      <td>NaN</td>\n",
       "      <td>NaN</td>\n",
       "      <td>NaN</td>\n",
       "      <td>NaN</td>\n",
       "      <td>NaN</td>\n",
       "      <td>NaN</td>\n",
       "      <td>NaN</td>\n",
       "      <td>NaN</td>\n",
       "      <td>NaN</td>\n",
       "      <td>NaN</td>\n",
       "      <td>NaN</td>\n",
       "      <td>NaN</td>\n",
       "      <td>NaN</td>\n",
       "      <td>NaN</td>\n",
       "      <td>NaN</td>\n",
       "      <td>NaN</td>\n",
       "      <td>NaN</td>\n",
       "      <td>NaN</td>\n",
       "      <td>NaN</td>\n",
       "      <td>NaN</td>\n",
       "      <td>NaN</td>\n",
       "      <td>NaN</td>\n",
       "      <td>NaN</td>\n",
       "      <td>NaN</td>\n",
       "      <td>NaN</td>\n",
       "      <td>NaN</td>\n",
       "      <td>NaN</td>\n",
       "      <td>NaN</td>\n",
       "      <td>NaN</td>\n",
       "      <td>NaN</td>\n",
       "      <td>NaN</td>\n",
       "      <td>NaN</td>\n",
       "      <td>NaN</td>\n",
       "      <td>NaN</td>\n",
       "      <td>NaN</td>\n",
       "      <td>NaN</td>\n",
       "      <td>IT</td>\n",
       "      <td>75629.0</td>\n",
       "      <td>NaN</td>\n",
       "      <td>yr</td>\n",
       "      <td>NaN</td>\n",
       "      <td>NaN</td>\n",
       "      <td>NaN</td>\n",
       "    </tr>\n",
       "    <tr>\n",
       "      <th>1</th>\n",
       "      <td>NaN</td>\n",
       "      <td>NaN</td>\n",
       "      <td>NaN</td>\n",
       "      <td>NaN</td>\n",
       "      <td>PERM</td>\n",
       "      <td>A-07332-99439</td>\n",
       "      <td>NaN</td>\n",
       "      <td>NaT</td>\n",
       "      <td>Denied</td>\n",
       "      <td>B-2</td>\n",
       "      <td>NaN</td>\n",
       "      <td>POLAND</td>\n",
       "      <td>2011-12-21</td>\n",
       "      <td>200 BROAD STREET</td>\n",
       "      <td>NaN</td>\n",
       "      <td>CARLSTADT</td>\n",
       "      <td>NaN</td>\n",
       "      <td>NaN</td>\n",
       "      <td>PINNACLE ENVIRONEMNTAL CORP</td>\n",
       "      <td>NaN</td>\n",
       "      <td>NaN</td>\n",
       "      <td>NaN</td>\n",
       "      <td>7072.0</td>\n",
       "      <td>NY</td>\n",
       "      <td>NaN</td>\n",
       "      <td>NaN</td>\n",
       "      <td>NaN</td>\n",
       "      <td>NaN</td>\n",
       "      <td>NaN</td>\n",
       "      <td>NaN</td>\n",
       "      <td>NaN</td>\n",
       "      <td>NaN</td>\n",
       "      <td>NaN</td>\n",
       "      <td>NaN</td>\n",
       "      <td>NaN</td>\n",
       "      <td>NaN</td>\n",
       "      <td>NaN</td>\n",
       "      <td>NaN</td>\n",
       "      <td>NaN</td>\n",
       "      <td>NaN</td>\n",
       "      <td>NaN</td>\n",
       "      <td>NaN</td>\n",
       "      <td>NaN</td>\n",
       "      <td>NaN</td>\n",
       "      <td>NaN</td>\n",
       "      <td>NaN</td>\n",
       "      <td>NaN</td>\n",
       "      <td>NaN</td>\n",
       "      <td>NaN</td>\n",
       "      <td>NaN</td>\n",
       "      <td>NaN</td>\n",
       "      <td>NaN</td>\n",
       "      <td>NaN</td>\n",
       "      <td>NaN</td>\n",
       "      <td>NaN</td>\n",
       "      <td>NaN</td>\n",
       "      <td>NaN</td>\n",
       "      <td>NaN</td>\n",
       "      <td>NaN</td>\n",
       "      <td>NaN</td>\n",
       "      <td>NaN</td>\n",
       "      <td>NaN</td>\n",
       "      <td>NaN</td>\n",
       "      <td>NaN</td>\n",
       "      <td>NaN</td>\n",
       "      <td>NaN</td>\n",
       "      <td>NaN</td>\n",
       "      <td>NaN</td>\n",
       "      <td>NaN</td>\n",
       "      <td>NaN</td>\n",
       "      <td>NaN</td>\n",
       "      <td>NaN</td>\n",
       "      <td>NaN</td>\n",
       "      <td>NaN</td>\n",
       "      <td>NaN</td>\n",
       "      <td>NaN</td>\n",
       "      <td>New York</td>\n",
       "      <td>NaN</td>\n",
       "      <td>NY</td>\n",
       "      <td>562211</td>\n",
       "      <td>Hazardous Waste Treatment and Disposal</td>\n",
       "      <td>NaN</td>\n",
       "      <td>NaN</td>\n",
       "      <td>NaN</td>\n",
       "      <td>NaN</td>\n",
       "      <td>NaN</td>\n",
       "      <td>NaN</td>\n",
       "      <td>NaN</td>\n",
       "      <td>NaN</td>\n",
       "      <td>NaN</td>\n",
       "      <td>NaN</td>\n",
       "      <td>37024.0</td>\n",
       "      <td>NaN</td>\n",
       "      <td>NaN</td>\n",
       "      <td>NaN</td>\n",
       "      <td>ASBESTOS HANDLER</td>\n",
       "      <td>Level I</td>\n",
       "      <td>47-4041.00</td>\n",
       "      <td>Hazardous Materials Removal Workers</td>\n",
       "      <td>OES</td>\n",
       "      <td>NaN</td>\n",
       "      <td>NaN</td>\n",
       "      <td>yr</td>\n",
       "      <td>NaN</td>\n",
       "      <td>NaN</td>\n",
       "      <td>NaN</td>\n",
       "      <td>NaN</td>\n",
       "      <td>NaN</td>\n",
       "      <td>NaN</td>\n",
       "      <td>NaN</td>\n",
       "      <td>NaN</td>\n",
       "      <td>NaN</td>\n",
       "      <td>NaN</td>\n",
       "      <td>NaN</td>\n",
       "      <td>NaN</td>\n",
       "      <td>NaN</td>\n",
       "      <td>NaN</td>\n",
       "      <td>NaN</td>\n",
       "      <td>NaN</td>\n",
       "      <td>NaN</td>\n",
       "      <td>NaN</td>\n",
       "      <td>NaN</td>\n",
       "      <td>NaN</td>\n",
       "      <td>NaN</td>\n",
       "      <td>NaN</td>\n",
       "      <td>NaN</td>\n",
       "      <td>NaN</td>\n",
       "      <td>NaN</td>\n",
       "      <td>NaN</td>\n",
       "      <td>NaN</td>\n",
       "      <td>NaN</td>\n",
       "      <td>NaN</td>\n",
       "      <td>NaN</td>\n",
       "      <td>NaN</td>\n",
       "      <td>NaN</td>\n",
       "      <td>NaN</td>\n",
       "      <td>NaN</td>\n",
       "      <td>NaN</td>\n",
       "      <td>NaN</td>\n",
       "      <td>NaN</td>\n",
       "      <td>NaN</td>\n",
       "      <td>NaN</td>\n",
       "      <td>NaN</td>\n",
       "      <td>NaN</td>\n",
       "      <td>NaN</td>\n",
       "      <td>NaN</td>\n",
       "      <td>NaN</td>\n",
       "      <td>Other Economic Sector</td>\n",
       "      <td>37024.0</td>\n",
       "      <td>NaN</td>\n",
       "      <td>yr</td>\n",
       "      <td>NaN</td>\n",
       "      <td>NaN</td>\n",
       "      <td>NaN</td>\n",
       "    </tr>\n",
       "    <tr>\n",
       "      <th>2</th>\n",
       "      <td>NaN</td>\n",
       "      <td>NaN</td>\n",
       "      <td>NaN</td>\n",
       "      <td>NaN</td>\n",
       "      <td>PERM</td>\n",
       "      <td>A-07333-99643</td>\n",
       "      <td>NaN</td>\n",
       "      <td>NaT</td>\n",
       "      <td>Certified</td>\n",
       "      <td>H-1B</td>\n",
       "      <td>NaN</td>\n",
       "      <td>INDIA</td>\n",
       "      <td>2011-12-01</td>\n",
       "      <td>1054 TECHNOLOGY PARK DRIVE</td>\n",
       "      <td>NaN</td>\n",
       "      <td>GLEN ALLEN</td>\n",
       "      <td>NaN</td>\n",
       "      <td>NaN</td>\n",
       "      <td>SCHNABEL ENGINEERING, INC.</td>\n",
       "      <td>NaN</td>\n",
       "      <td>NaN</td>\n",
       "      <td>NaN</td>\n",
       "      <td>23059.0</td>\n",
       "      <td>VA</td>\n",
       "      <td>NaN</td>\n",
       "      <td>NaN</td>\n",
       "      <td>NaN</td>\n",
       "      <td>NaN</td>\n",
       "      <td>NaN</td>\n",
       "      <td>NaN</td>\n",
       "      <td>NaN</td>\n",
       "      <td>NaN</td>\n",
       "      <td>NaN</td>\n",
       "      <td>NaN</td>\n",
       "      <td>NaN</td>\n",
       "      <td>NaN</td>\n",
       "      <td>NaN</td>\n",
       "      <td>NaN</td>\n",
       "      <td>NaN</td>\n",
       "      <td>NaN</td>\n",
       "      <td>NaN</td>\n",
       "      <td>NaN</td>\n",
       "      <td>NaN</td>\n",
       "      <td>NaN</td>\n",
       "      <td>NaN</td>\n",
       "      <td>NaN</td>\n",
       "      <td>NaN</td>\n",
       "      <td>NaN</td>\n",
       "      <td>NaN</td>\n",
       "      <td>NaN</td>\n",
       "      <td>NaN</td>\n",
       "      <td>NaN</td>\n",
       "      <td>NaN</td>\n",
       "      <td>NaN</td>\n",
       "      <td>NaN</td>\n",
       "      <td>NaN</td>\n",
       "      <td>NaN</td>\n",
       "      <td>NaN</td>\n",
       "      <td>NaN</td>\n",
       "      <td>NaN</td>\n",
       "      <td>NaN</td>\n",
       "      <td>NaN</td>\n",
       "      <td>NaN</td>\n",
       "      <td>NaN</td>\n",
       "      <td>NaN</td>\n",
       "      <td>NaN</td>\n",
       "      <td>NaN</td>\n",
       "      <td>NaN</td>\n",
       "      <td>NaN</td>\n",
       "      <td>NaN</td>\n",
       "      <td>NaN</td>\n",
       "      <td>NaN</td>\n",
       "      <td>NaN</td>\n",
       "      <td>NaN</td>\n",
       "      <td>NaN</td>\n",
       "      <td>NaN</td>\n",
       "      <td>Lutherville</td>\n",
       "      <td>NaN</td>\n",
       "      <td>MD</td>\n",
       "      <td>541330</td>\n",
       "      <td>Engineering Services</td>\n",
       "      <td>NaN</td>\n",
       "      <td>NaN</td>\n",
       "      <td>NaN</td>\n",
       "      <td>NaN</td>\n",
       "      <td>NaN</td>\n",
       "      <td>NaN</td>\n",
       "      <td>NaN</td>\n",
       "      <td>NaN</td>\n",
       "      <td>NaN</td>\n",
       "      <td>NaN</td>\n",
       "      <td>47923.0</td>\n",
       "      <td>NaN</td>\n",
       "      <td>NaN</td>\n",
       "      <td>NaN</td>\n",
       "      <td>Civil Engineer</td>\n",
       "      <td>Level I</td>\n",
       "      <td>17-2051.00</td>\n",
       "      <td>Civil Engineers</td>\n",
       "      <td>OES</td>\n",
       "      <td>NaN</td>\n",
       "      <td>NaN</td>\n",
       "      <td>yr</td>\n",
       "      <td>NaN</td>\n",
       "      <td>NaN</td>\n",
       "      <td>NaN</td>\n",
       "      <td>NaN</td>\n",
       "      <td>NaN</td>\n",
       "      <td>NaN</td>\n",
       "      <td>NaN</td>\n",
       "      <td>NaN</td>\n",
       "      <td>NaN</td>\n",
       "      <td>NaN</td>\n",
       "      <td>NaN</td>\n",
       "      <td>NaN</td>\n",
       "      <td>NaN</td>\n",
       "      <td>NaN</td>\n",
       "      <td>NaN</td>\n",
       "      <td>NaN</td>\n",
       "      <td>NaN</td>\n",
       "      <td>NaN</td>\n",
       "      <td>NaN</td>\n",
       "      <td>NaN</td>\n",
       "      <td>NaN</td>\n",
       "      <td>NaN</td>\n",
       "      <td>NaN</td>\n",
       "      <td>NaN</td>\n",
       "      <td>NaN</td>\n",
       "      <td>NaN</td>\n",
       "      <td>NaN</td>\n",
       "      <td>NaN</td>\n",
       "      <td>NaN</td>\n",
       "      <td>NaN</td>\n",
       "      <td>NaN</td>\n",
       "      <td>NaN</td>\n",
       "      <td>NaN</td>\n",
       "      <td>NaN</td>\n",
       "      <td>NaN</td>\n",
       "      <td>NaN</td>\n",
       "      <td>NaN</td>\n",
       "      <td>NaN</td>\n",
       "      <td>NaN</td>\n",
       "      <td>NaN</td>\n",
       "      <td>NaN</td>\n",
       "      <td>NaN</td>\n",
       "      <td>NaN</td>\n",
       "      <td>NaN</td>\n",
       "      <td>Aerospace</td>\n",
       "      <td>47923.0</td>\n",
       "      <td>NaN</td>\n",
       "      <td>yr</td>\n",
       "      <td>NaN</td>\n",
       "      <td>NaN</td>\n",
       "      <td>NaN</td>\n",
       "    </tr>\n",
       "    <tr>\n",
       "      <th>3</th>\n",
       "      <td>NaN</td>\n",
       "      <td>NaN</td>\n",
       "      <td>NaN</td>\n",
       "      <td>NaN</td>\n",
       "      <td>PERM</td>\n",
       "      <td>A-07339-01930</td>\n",
       "      <td>NaN</td>\n",
       "      <td>NaT</td>\n",
       "      <td>Certified</td>\n",
       "      <td>B-2</td>\n",
       "      <td>NaN</td>\n",
       "      <td>SOUTH KOREA</td>\n",
       "      <td>2011-12-01</td>\n",
       "      <td>33-17 PRINCE ST. 2ND FL</td>\n",
       "      <td>NaN</td>\n",
       "      <td>FLUSHING</td>\n",
       "      <td>NaN</td>\n",
       "      <td>NaN</td>\n",
       "      <td>EBENEZER MISSION CHURCH</td>\n",
       "      <td>NaN</td>\n",
       "      <td>NaN</td>\n",
       "      <td>NaN</td>\n",
       "      <td>11354.0</td>\n",
       "      <td>NY</td>\n",
       "      <td>NaN</td>\n",
       "      <td>NaN</td>\n",
       "      <td>NaN</td>\n",
       "      <td>NaN</td>\n",
       "      <td>NaN</td>\n",
       "      <td>NaN</td>\n",
       "      <td>NaN</td>\n",
       "      <td>NaN</td>\n",
       "      <td>NaN</td>\n",
       "      <td>NaN</td>\n",
       "      <td>NaN</td>\n",
       "      <td>NaN</td>\n",
       "      <td>NaN</td>\n",
       "      <td>NaN</td>\n",
       "      <td>NaN</td>\n",
       "      <td>NaN</td>\n",
       "      <td>NaN</td>\n",
       "      <td>NaN</td>\n",
       "      <td>NaN</td>\n",
       "      <td>NaN</td>\n",
       "      <td>NaN</td>\n",
       "      <td>NaN</td>\n",
       "      <td>NaN</td>\n",
       "      <td>NaN</td>\n",
       "      <td>NaN</td>\n",
       "      <td>NaN</td>\n",
       "      <td>NaN</td>\n",
       "      <td>NaN</td>\n",
       "      <td>NaN</td>\n",
       "      <td>NaN</td>\n",
       "      <td>NaN</td>\n",
       "      <td>NaN</td>\n",
       "      <td>NaN</td>\n",
       "      <td>NaN</td>\n",
       "      <td>NaN</td>\n",
       "      <td>NaN</td>\n",
       "      <td>NaN</td>\n",
       "      <td>NaN</td>\n",
       "      <td>NaN</td>\n",
       "      <td>NaN</td>\n",
       "      <td>NaN</td>\n",
       "      <td>NaN</td>\n",
       "      <td>NaN</td>\n",
       "      <td>NaN</td>\n",
       "      <td>NaN</td>\n",
       "      <td>NaN</td>\n",
       "      <td>NaN</td>\n",
       "      <td>NaN</td>\n",
       "      <td>NaN</td>\n",
       "      <td>NaN</td>\n",
       "      <td>NaN</td>\n",
       "      <td>NaN</td>\n",
       "      <td>Flushing</td>\n",
       "      <td>NaN</td>\n",
       "      <td>NY</td>\n",
       "      <td>813110</td>\n",
       "      <td>Religious Organizations</td>\n",
       "      <td>NaN</td>\n",
       "      <td>NaN</td>\n",
       "      <td>NaN</td>\n",
       "      <td>NaN</td>\n",
       "      <td>NaN</td>\n",
       "      <td>NaN</td>\n",
       "      <td>NaN</td>\n",
       "      <td>NaN</td>\n",
       "      <td>NaN</td>\n",
       "      <td>NaN</td>\n",
       "      <td>10.97</td>\n",
       "      <td>NaN</td>\n",
       "      <td>NaN</td>\n",
       "      <td>NaN</td>\n",
       "      <td>File Clerk</td>\n",
       "      <td>Level II</td>\n",
       "      <td>43-4071.00</td>\n",
       "      <td>File Clerks</td>\n",
       "      <td>OES</td>\n",
       "      <td>NaN</td>\n",
       "      <td>NaN</td>\n",
       "      <td>hr</td>\n",
       "      <td>NaN</td>\n",
       "      <td>NaN</td>\n",
       "      <td>NaN</td>\n",
       "      <td>NaN</td>\n",
       "      <td>NaN</td>\n",
       "      <td>NaN</td>\n",
       "      <td>NaN</td>\n",
       "      <td>NaN</td>\n",
       "      <td>NaN</td>\n",
       "      <td>NaN</td>\n",
       "      <td>NaN</td>\n",
       "      <td>NaN</td>\n",
       "      <td>NaN</td>\n",
       "      <td>NaN</td>\n",
       "      <td>NaN</td>\n",
       "      <td>NaN</td>\n",
       "      <td>NaN</td>\n",
       "      <td>NaN</td>\n",
       "      <td>NaN</td>\n",
       "      <td>NaN</td>\n",
       "      <td>NaN</td>\n",
       "      <td>NaN</td>\n",
       "      <td>NaN</td>\n",
       "      <td>NaN</td>\n",
       "      <td>NaN</td>\n",
       "      <td>NaN</td>\n",
       "      <td>NaN</td>\n",
       "      <td>NaN</td>\n",
       "      <td>NaN</td>\n",
       "      <td>NaN</td>\n",
       "      <td>NaN</td>\n",
       "      <td>NaN</td>\n",
       "      <td>NaN</td>\n",
       "      <td>NaN</td>\n",
       "      <td>NaN</td>\n",
       "      <td>NaN</td>\n",
       "      <td>NaN</td>\n",
       "      <td>NaN</td>\n",
       "      <td>NaN</td>\n",
       "      <td>NaN</td>\n",
       "      <td>NaN</td>\n",
       "      <td>NaN</td>\n",
       "      <td>NaN</td>\n",
       "      <td>NaN</td>\n",
       "      <td>Other Economic Sector</td>\n",
       "      <td>10.97</td>\n",
       "      <td>NaN</td>\n",
       "      <td>hr</td>\n",
       "      <td>NaN</td>\n",
       "      <td>NaN</td>\n",
       "      <td>NaN</td>\n",
       "    </tr>\n",
       "    <tr>\n",
       "      <th>4</th>\n",
       "      <td>NaN</td>\n",
       "      <td>NaN</td>\n",
       "      <td>NaN</td>\n",
       "      <td>NaN</td>\n",
       "      <td>PERM</td>\n",
       "      <td>A-07345-03565</td>\n",
       "      <td>NaN</td>\n",
       "      <td>NaT</td>\n",
       "      <td>Certified</td>\n",
       "      <td>L-1</td>\n",
       "      <td>NaN</td>\n",
       "      <td>CANADA</td>\n",
       "      <td>2012-01-26</td>\n",
       "      <td>1373 BROADWAY</td>\n",
       "      <td>NaN</td>\n",
       "      <td>ALBANY</td>\n",
       "      <td>NaN</td>\n",
       "      <td>NaN</td>\n",
       "      <td>ALBANY INTERNATIONAL CORP.</td>\n",
       "      <td>NaN</td>\n",
       "      <td>NaN</td>\n",
       "      <td>NaN</td>\n",
       "      <td>12204.0</td>\n",
       "      <td>NY</td>\n",
       "      <td>NaN</td>\n",
       "      <td>NaN</td>\n",
       "      <td>NaN</td>\n",
       "      <td>NaN</td>\n",
       "      <td>NaN</td>\n",
       "      <td>NaN</td>\n",
       "      <td>NaN</td>\n",
       "      <td>NaN</td>\n",
       "      <td>NaN</td>\n",
       "      <td>NaN</td>\n",
       "      <td>NaN</td>\n",
       "      <td>NaN</td>\n",
       "      <td>NaN</td>\n",
       "      <td>NaN</td>\n",
       "      <td>NaN</td>\n",
       "      <td>NaN</td>\n",
       "      <td>NaN</td>\n",
       "      <td>NaN</td>\n",
       "      <td>NaN</td>\n",
       "      <td>NaN</td>\n",
       "      <td>NaN</td>\n",
       "      <td>NaN</td>\n",
       "      <td>NaN</td>\n",
       "      <td>NaN</td>\n",
       "      <td>NaN</td>\n",
       "      <td>NaN</td>\n",
       "      <td>NaN</td>\n",
       "      <td>NaN</td>\n",
       "      <td>NaN</td>\n",
       "      <td>NaN</td>\n",
       "      <td>NaN</td>\n",
       "      <td>NaN</td>\n",
       "      <td>NaN</td>\n",
       "      <td>NaN</td>\n",
       "      <td>NaN</td>\n",
       "      <td>NaN</td>\n",
       "      <td>NaN</td>\n",
       "      <td>NaN</td>\n",
       "      <td>NaN</td>\n",
       "      <td>NaN</td>\n",
       "      <td>NaN</td>\n",
       "      <td>NaN</td>\n",
       "      <td>NaN</td>\n",
       "      <td>NaN</td>\n",
       "      <td>NaN</td>\n",
       "      <td>NaN</td>\n",
       "      <td>NaN</td>\n",
       "      <td>NaN</td>\n",
       "      <td>NaN</td>\n",
       "      <td>NaN</td>\n",
       "      <td>NaN</td>\n",
       "      <td>NaN</td>\n",
       "      <td>Albany</td>\n",
       "      <td>NaN</td>\n",
       "      <td>NY</td>\n",
       "      <td>333291</td>\n",
       "      <td>Paper Industry Machinery Manufacturing</td>\n",
       "      <td>NaN</td>\n",
       "      <td>NaN</td>\n",
       "      <td>NaN</td>\n",
       "      <td>NaN</td>\n",
       "      <td>NaN</td>\n",
       "      <td>NaN</td>\n",
       "      <td>NaN</td>\n",
       "      <td>NaN</td>\n",
       "      <td>NaN</td>\n",
       "      <td>NaN</td>\n",
       "      <td>94890.0</td>\n",
       "      <td>NaN</td>\n",
       "      <td>NaN</td>\n",
       "      <td>NaN</td>\n",
       "      <td>Sales &amp; Service Engineer</td>\n",
       "      <td>Level IV</td>\n",
       "      <td>41-9031.00</td>\n",
       "      <td>Sales Engineers</td>\n",
       "      <td>OES</td>\n",
       "      <td>NaN</td>\n",
       "      <td>NaN</td>\n",
       "      <td>yr</td>\n",
       "      <td>NaN</td>\n",
       "      <td>NaN</td>\n",
       "      <td>NaN</td>\n",
       "      <td>NaN</td>\n",
       "      <td>NaN</td>\n",
       "      <td>NaN</td>\n",
       "      <td>NaN</td>\n",
       "      <td>NaN</td>\n",
       "      <td>NaN</td>\n",
       "      <td>NaN</td>\n",
       "      <td>NaN</td>\n",
       "      <td>NaN</td>\n",
       "      <td>NaN</td>\n",
       "      <td>NaN</td>\n",
       "      <td>NaN</td>\n",
       "      <td>NaN</td>\n",
       "      <td>NaN</td>\n",
       "      <td>NaN</td>\n",
       "      <td>NaN</td>\n",
       "      <td>NaN</td>\n",
       "      <td>NaN</td>\n",
       "      <td>NaN</td>\n",
       "      <td>NaN</td>\n",
       "      <td>NaN</td>\n",
       "      <td>NaN</td>\n",
       "      <td>NaN</td>\n",
       "      <td>NaN</td>\n",
       "      <td>NaN</td>\n",
       "      <td>NaN</td>\n",
       "      <td>NaN</td>\n",
       "      <td>NaN</td>\n",
       "      <td>NaN</td>\n",
       "      <td>NaN</td>\n",
       "      <td>NaN</td>\n",
       "      <td>NaN</td>\n",
       "      <td>NaN</td>\n",
       "      <td>NaN</td>\n",
       "      <td>NaN</td>\n",
       "      <td>NaN</td>\n",
       "      <td>NaN</td>\n",
       "      <td>NaN</td>\n",
       "      <td>NaN</td>\n",
       "      <td>NaN</td>\n",
       "      <td>NaN</td>\n",
       "      <td>Advanced Mfg</td>\n",
       "      <td>100000.0</td>\n",
       "      <td>NaN</td>\n",
       "      <td>yr</td>\n",
       "      <td>NaN</td>\n",
       "      <td>NaN</td>\n",
       "      <td>NaN</td>\n",
       "    </tr>\n",
       "  </tbody>\n",
       "</table>\n",
       "</div>"
      ],
      "text/plain": [
       "  add_these_pw_job_title_9089 agent_city agent_firm_name agent_state application_type        case_no case_number case_received_date case_status class_of_admission country_of_citizenship country_of_citzenship decision_date          employer_address_1 employer_address_2 employer_city employer_country employer_decl_info_title                employer_name  employer_num_employees employer_phone employer_phone_ext employer_postal_code employer_state  employer_yr_estab foreign_worker_info_alt_edu_experience foreign_worker_info_birth_country foreign_worker_info_city foreign_worker_info_education foreign_worker_info_education_other foreign_worker_info_inst foreign_worker_info_major foreign_worker_info_postal_code foreign_worker_info_rel_occup_exp foreign_worker_info_req_experience foreign_worker_info_state foreign_worker_info_training_comp foreign_worker_ownership_interest  foreign_worker_yr_rel_edu_completed fw_info_alt_edu_experience fw_info_birth_country fw_info_education_other  \\\n",
       "0                         NaN        NaN             NaN         NaN             PERM  A-07323-97014         NaN                NaT   Certified                J-1                    NaN               ARMENIA    2012-02-01           24 WEST 25 STREET          5TH FLOOR      NEW YORK              NaN                      NaN             NETSOFT USA INC.                     NaN            NaN                NaN              10010.0             NY                NaN                                    NaN                               NaN                      NaN                           NaN                                 NaN                      NaN                       NaN                             NaN                               NaN                                NaN                       NaN                               NaN                               NaN                                  NaN                        NaN                   NaN                     NaN   \n",
       "1                         NaN        NaN             NaN         NaN             PERM  A-07332-99439         NaN                NaT      Denied                B-2                    NaN                POLAND    2011-12-21            200 BROAD STREET                NaN     CARLSTADT              NaN                      NaN  PINNACLE ENVIRONEMNTAL CORP                     NaN            NaN                NaN               7072.0             NY                NaN                                    NaN                               NaN                      NaN                           NaN                                 NaN                      NaN                       NaN                             NaN                               NaN                                NaN                       NaN                               NaN                               NaN                                  NaN                        NaN                   NaN                     NaN   \n",
       "2                         NaN        NaN             NaN         NaN             PERM  A-07333-99643         NaN                NaT   Certified               H-1B                    NaN                 INDIA    2011-12-01  1054 TECHNOLOGY PARK DRIVE                NaN    GLEN ALLEN              NaN                      NaN   SCHNABEL ENGINEERING, INC.                     NaN            NaN                NaN              23059.0             VA                NaN                                    NaN                               NaN                      NaN                           NaN                                 NaN                      NaN                       NaN                             NaN                               NaN                                NaN                       NaN                               NaN                               NaN                                  NaN                        NaN                   NaN                     NaN   \n",
       "3                         NaN        NaN             NaN         NaN             PERM  A-07339-01930         NaN                NaT   Certified                B-2                    NaN           SOUTH KOREA    2011-12-01     33-17 PRINCE ST. 2ND FL                NaN      FLUSHING              NaN                      NaN      EBENEZER MISSION CHURCH                     NaN            NaN                NaN              11354.0             NY                NaN                                    NaN                               NaN                      NaN                           NaN                                 NaN                      NaN                       NaN                             NaN                               NaN                                NaN                       NaN                               NaN                               NaN                                  NaN                        NaN                   NaN                     NaN   \n",
       "4                         NaN        NaN             NaN         NaN             PERM  A-07345-03565         NaN                NaT   Certified                L-1                    NaN                CANADA    2012-01-26               1373 BROADWAY                NaN        ALBANY              NaN                      NaN   ALBANY INTERNATIONAL CORP.                     NaN            NaN                NaN              12204.0             NY                NaN                                    NaN                               NaN                      NaN                           NaN                                 NaN                      NaN                       NaN                             NaN                               NaN                                NaN                       NaN                               NaN                               NaN                                  NaN                        NaN                   NaN                     NaN   \n",
       "\n",
       "  fw_info_postal_code fw_info_rel_occup_exp fw_info_req_experience fw_info_training_comp  fw_info_yr_rel_edu_completed fw_ownership_interest ji_foreign_worker_live_on_premises ji_fw_live_on_premises ji_live_in_dom_svc_contract ji_live_in_domestic_service ji_offered_to_sec_j_foreign_worker ji_offered_to_sec_j_fw  job_info_alt_cmb_ed_oth_yrs job_info_alt_combo_ed job_info_alt_combo_ed_exp job_info_alt_combo_ed_other job_info_alt_field job_info_alt_field_name job_info_alt_occ job_info_alt_occ_job_title  job_info_alt_occ_num_months job_info_combo_occupation job_info_education job_info_education_other job_info_experience  job_info_experience_num_months job_info_foreign_ed job_info_foreign_lang_req job_info_job_req_normal job_info_job_title job_info_major job_info_training job_info_training_field  job_info_training_num_months job_info_work_city job_info_work_postal_code job_info_work_state naics_2007_us_code                     naics_2007_us_title naics_code naics_title naics_us_code  \\\n",
       "0                 NaN                   NaN                    NaN                   NaN                           NaN                   NaN                                NaN                    NaN                         NaN                         NaN                                NaN                    NaN                          NaN                   NaN                       NaN                         NaN                NaN                     NaN              NaN                        NaN                          NaN                       NaN                NaN                      NaN                 NaN                             NaN                 NaN                       NaN                     NaN                NaN            NaN               NaN                     NaN                           NaN           New York                       NaN                  NY             541512        Computer Systems Design Services        NaN         NaN           NaN   \n",
       "1                 NaN                   NaN                    NaN                   NaN                           NaN                   NaN                                NaN                    NaN                         NaN                         NaN                                NaN                    NaN                          NaN                   NaN                       NaN                         NaN                NaN                     NaN              NaN                        NaN                          NaN                       NaN                NaN                      NaN                 NaN                             NaN                 NaN                       NaN                     NaN                NaN            NaN               NaN                     NaN                           NaN           New York                       NaN                  NY             562211  Hazardous Waste Treatment and Disposal        NaN         NaN           NaN   \n",
       "2                 NaN                   NaN                    NaN                   NaN                           NaN                   NaN                                NaN                    NaN                         NaN                         NaN                                NaN                    NaN                          NaN                   NaN                       NaN                         NaN                NaN                     NaN              NaN                        NaN                          NaN                       NaN                NaN                      NaN                 NaN                             NaN                 NaN                       NaN                     NaN                NaN            NaN               NaN                     NaN                           NaN        Lutherville                       NaN                  MD             541330                    Engineering Services        NaN         NaN           NaN   \n",
       "3                 NaN                   NaN                    NaN                   NaN                           NaN                   NaN                                NaN                    NaN                         NaN                         NaN                                NaN                    NaN                          NaN                   NaN                       NaN                         NaN                NaN                     NaN              NaN                        NaN                          NaN                       NaN                NaN                      NaN                 NaN                             NaN                 NaN                       NaN                     NaN                NaN            NaN               NaN                     NaN                           NaN           Flushing                       NaN                  NY             813110                 Religious Organizations        NaN         NaN           NaN   \n",
       "4                 NaN                   NaN                    NaN                   NaN                           NaN                   NaN                                NaN                    NaN                         NaN                         NaN                                NaN                    NaN                          NaN                   NaN                       NaN                         NaN                NaN                     NaN              NaN                        NaN                          NaN                       NaN                NaN                      NaN                 NaN                             NaN                 NaN                       NaN                     NaN                NaN            NaN               NaN                     NaN                           NaN             Albany                       NaN                  NY             333291  Paper Industry Machinery Manufacturing        NaN         NaN           NaN   \n",
       "\n",
       "  naics_us_code_2007 naics_us_title naics_us_title_2007 orig_case_no orig_file_date preparer_info_emp_completed preparer_info_title pw_amount_9089 pw_determ_date pw_expire_date pw_job_title_908                          pw_job_title_9089 pw_level_9089 pw_soc_code                               pw_soc_title pw_source_name_9089 pw_source_name_other_9089 pw_track_num pw_unit_of_pay_9089 rec_info_barg_rep_notified recr_info_barg_rep_notified recr_info_coll_teach_comp_proc recr_info_coll_univ_teacher recr_info_employer_rec_payment recr_info_first_ad_start recr_info_job_fair_from recr_info_job_fair_to recr_info_on_campus_recr_from recr_info_on_campus_recr_to recr_info_pro_org_advert_from recr_info_pro_org_advert_to recr_info_prof_org_advert_from recr_info_prof_org_advert_to recr_info_professional_occ recr_info_radio_tv_ad_from recr_info_radio_tv_ad_to recr_info_second_ad_start recr_info_sunday_newspaper recr_info_swa_job_order_end recr_info_swa_job_order_start refile  \\\n",
       "0                NaN            NaN                 NaN          NaN            NaN                         NaN                 NaN        75629.0            NaN            NaN              NaN  Computer Software Engineers, Applications      Level II  15-1031.00  Computer Software Engineers, Applications                 OES                       NaN          NaN                  yr                        NaN                         NaN                            NaN                         NaN                            NaN                      NaN                     NaN                   NaN                           NaN                         NaN                           NaN                         NaN                            NaN                          NaN                        NaN                        NaN                      NaN                       NaN                        NaN                         NaN                           NaN    NaN   \n",
       "1                NaN            NaN                 NaN          NaN            NaN                         NaN                 NaN        37024.0            NaN            NaN              NaN                           ASBESTOS HANDLER       Level I  47-4041.00        Hazardous Materials Removal Workers                 OES                       NaN          NaN                  yr                        NaN                         NaN                            NaN                         NaN                            NaN                      NaN                     NaN                   NaN                           NaN                         NaN                           NaN                         NaN                            NaN                          NaN                        NaN                        NaN                      NaN                       NaN                        NaN                         NaN                           NaN    NaN   \n",
       "2                NaN            NaN                 NaN          NaN            NaN                         NaN                 NaN        47923.0            NaN            NaN              NaN                             Civil Engineer       Level I  17-2051.00                            Civil Engineers                 OES                       NaN          NaN                  yr                        NaN                         NaN                            NaN                         NaN                            NaN                      NaN                     NaN                   NaN                           NaN                         NaN                           NaN                         NaN                            NaN                          NaN                        NaN                        NaN                      NaN                       NaN                        NaN                         NaN                           NaN    NaN   \n",
       "3                NaN            NaN                 NaN          NaN            NaN                         NaN                 NaN          10.97            NaN            NaN              NaN                                 File Clerk      Level II  43-4071.00                                File Clerks                 OES                       NaN          NaN                  hr                        NaN                         NaN                            NaN                         NaN                            NaN                      NaN                     NaN                   NaN                           NaN                         NaN                           NaN                         NaN                            NaN                          NaN                        NaN                        NaN                      NaN                       NaN                        NaN                         NaN                           NaN    NaN   \n",
       "4                NaN            NaN                 NaN          NaN            NaN                         NaN                 NaN        94890.0            NaN            NaN              NaN                   Sales & Service Engineer      Level IV  41-9031.00                            Sales Engineers                 OES                       NaN          NaN                  yr                        NaN                         NaN                            NaN                         NaN                            NaN                      NaN                     NaN                   NaN                           NaN                         NaN                           NaN                         NaN                            NaN                          NaN                        NaN                        NaN                      NaN                       NaN                        NaN                         NaN                           NaN    NaN   \n",
       "\n",
       "  ri_1st_ad_newspaper_name ri_2nd_ad_newspaper_name ri_2nd_ad_newspaper_or_journal ri_campus_placement_from ri_campus_placement_to ri_coll_tch_basic_process ri_coll_teach_pro_jnl ri_coll_teach_select_date ri_employee_referral_prog_from ri_employee_referral_prog_to ri_employer_web_post_from ri_employer_web_post_to ri_job_search_website_from ri_job_search_website_to ri_layoff_in_past_six_months ri_local_ethnic_paper_from ri_local_ethnic_paper_to ri_posted_notice_at_worksite ri_pvt_employment_firm_from ri_pvt_employment_firm_to ri_us_workers_considered schd_a_sheepherder     us_economic_sector wage_offer_from_9089 wage_offer_to_9089 wage_offer_unit_of_pay_9089  wage_offered_from_9089  wage_offered_to_9089 wage_offered_unit_of_pay_9089  \n",
       "0                      NaN                      NaN                            NaN                      NaN                    NaN                       NaN                   NaN                       NaN                            NaN                          NaN                       NaN                     NaN                        NaN                      NaN                          NaN                        NaN                      NaN                          NaN                         NaN                       NaN                      NaN                NaN                     IT              75629.0                NaN                          yr                     NaN                   NaN                           NaN  \n",
       "1                      NaN                      NaN                            NaN                      NaN                    NaN                       NaN                   NaN                       NaN                            NaN                          NaN                       NaN                     NaN                        NaN                      NaN                          NaN                        NaN                      NaN                          NaN                         NaN                       NaN                      NaN                NaN  Other Economic Sector              37024.0                NaN                          yr                     NaN                   NaN                           NaN  \n",
       "2                      NaN                      NaN                            NaN                      NaN                    NaN                       NaN                   NaN                       NaN                            NaN                          NaN                       NaN                     NaN                        NaN                      NaN                          NaN                        NaN                      NaN                          NaN                         NaN                       NaN                      NaN                NaN              Aerospace              47923.0                NaN                          yr                     NaN                   NaN                           NaN  \n",
       "3                      NaN                      NaN                            NaN                      NaN                    NaN                       NaN                   NaN                       NaN                            NaN                          NaN                       NaN                     NaN                        NaN                      NaN                          NaN                        NaN                      NaN                          NaN                         NaN                       NaN                      NaN                NaN  Other Economic Sector                10.97                NaN                          hr                     NaN                   NaN                           NaN  \n",
       "4                      NaN                      NaN                            NaN                      NaN                    NaN                       NaN                   NaN                       NaN                            NaN                          NaN                       NaN                     NaN                        NaN                      NaN                          NaN                        NaN                      NaN                          NaN                         NaN                       NaN                      NaN                NaN           Advanced Mfg             100000.0                NaN                          yr                     NaN                   NaN                           NaN  "
      ]
     },
     "execution_count": 7,
     "metadata": {},
     "output_type": "execute_result"
    }
   ],
   "source": [
    "# displaying 5 first rows\n",
    "df.head()"
   ]
  },
  {
   "cell_type": "code",
   "execution_count": 8,
   "metadata": {},
   "outputs": [
    {
     "data": {
      "text/plain": [
       "add_these_pw_job_title_9089               332168\n",
       "agent_city                                162908\n",
       "agent_firm_name                           167365\n",
       "agent_state                               166123\n",
       "application_type                          239093\n",
       "case_no                                   239093\n",
       "case_number                               135269\n",
       "case_received_date                        135271\n",
       "case_status                                    0\n",
       "class_of_admission                         22845\n",
       "country_of_citizenship                     20633\n",
       "country_of_citzenship                     353788\n",
       "decision_date                                  0\n",
       "employer_address_1                            42\n",
       "employer_address_2                        149193\n",
       "employer_city                                 14\n",
       "employer_country                          135343\n",
       "employer_decl_info_title                  135308\n",
       "employer_name                                 12\n",
       "employer_num_employees                    135349\n",
       "employer_phone                            135305\n",
       "employer_phone_ext                        350901\n",
       "employer_postal_code                          37\n",
       "employer_state                                42\n",
       "employer_yr_estab                         135404\n",
       "foreign_worker_info_alt_edu_experience    285737\n",
       "foreign_worker_info_birth_country         285734\n",
       "foreign_worker_info_city                  135297\n",
       "foreign_worker_info_education             135309\n",
       "foreign_worker_info_education_other       370422\n",
       "foreign_worker_info_inst                  153996\n",
       "foreign_worker_info_major                 154972\n",
       "foreign_worker_info_postal_code           288465\n",
       "foreign_worker_info_rel_occup_exp         285729\n",
       "foreign_worker_info_req_experience        285727\n",
       "foreign_worker_info_state                 152464\n",
       "foreign_worker_info_training_comp         285728\n",
       "foreign_worker_ownership_interest         285724\n",
       "foreign_worker_yr_rel_edu_completed       290998\n",
       "fw_info_alt_edu_experience                223916\n",
       "fw_info_birth_country                     223928\n",
       "fw_info_education_other                   224347\n",
       "fw_info_postal_code                       226143\n",
       "fw_info_rel_occup_exp                     223919\n",
       "fw_info_req_experience                    223915\n",
       "fw_info_training_comp                     223918\n",
       "fw_info_yr_rel_edu_completed              237164\n",
       "fw_ownership_interest                     223917\n",
       "ji_foreign_worker_live_on_premises        285725\n",
       "ji_fw_live_on_premises                    223916\n",
       "ji_live_in_dom_svc_contract               371964\n",
       "ji_live_in_domestic_service               135282\n",
       "ji_offered_to_sec_j_foreign_worker        285725\n",
       "ji_offered_to_sec_j_fw                    223916\n",
       "job_info_alt_cmb_ed_oth_yrs               304142\n",
       "job_info_alt_combo_ed                     303814\n",
       "job_info_alt_combo_ed_exp                 135304\n",
       "job_info_alt_combo_ed_other               365148\n",
       "job_info_alt_field                        135303\n",
       "job_info_alt_field_name                   280934\n",
       "job_info_alt_occ                          225342\n",
       "job_info_alt_occ_job_title                226962\n",
       "job_info_alt_occ_num_months               227162\n",
       "job_info_combo_occupation                 135279\n",
       "job_info_education                        135282\n",
       "job_info_education_other                  366593\n",
       "job_info_experience                       135281\n",
       "job_info_experience_num_months            241174\n",
       "job_info_foreign_ed                       135500\n",
       "job_info_foreign_lang_req                 135286\n",
       "job_info_job_req_normal                   135283\n",
       "job_info_job_title                        135313\n",
       "job_info_major                            161723\n",
       "job_info_training                         135284\n",
       "job_info_training_field                   369883\n",
       "job_info_training_num_months              369583\n",
       "job_info_work_city                           102\n",
       "job_info_work_postal_code                 135353\n",
       "job_info_work_state                          103\n",
       "naics_2007_us_code                        353846\n",
       "naics_2007_us_title                       354462\n",
       "naics_code                                285929\n",
       "naics_title                               285929\n",
       "naics_us_code                             224233\n",
       "naics_us_code_2007                        260061\n",
       "naics_us_title                            224233\n",
       "naics_us_title_2007                       263116\n",
       "orig_case_no                              374068\n",
       "orig_file_date                            374081\n",
       "preparer_info_emp_completed               135308\n",
       "preparer_info_title                       164075\n",
       "pw_amount_9089                              2216\n",
       "pw_determ_date                            135587\n",
       "pw_expire_date                            135668\n",
       "pw_job_title_908                          223983\n",
       "pw_job_title_9089                         150771\n",
       "pw_level_9089                              27627\n",
       "pw_soc_code                                  397\n",
       "pw_soc_title                                2336\n",
       "pw_source_name_9089                         2099\n",
       "pw_source_name_other_9089                 358603\n",
       "pw_track_num                              137236\n",
       "pw_unit_of_pay_9089                         1572\n",
       "rec_info_barg_rep_notified                285788\n",
       "recr_info_barg_rep_notified               223932\n",
       "recr_info_coll_teach_comp_proc            367341\n",
       "recr_info_coll_univ_teacher               135300\n",
       "recr_info_employer_rec_payment            135289\n",
       "recr_info_first_ad_start                  141429\n",
       "recr_info_job_fair_from                   372564\n",
       "recr_info_job_fair_to                     372569\n",
       "recr_info_on_campus_recr_from             372490\n",
       "recr_info_on_campus_recr_to               372497\n",
       "recr_info_pro_org_advert_from             360286\n",
       "recr_info_pro_org_advert_to               360292\n",
       "recr_info_prof_org_advert_from            346269\n",
       "recr_info_prof_org_advert_to              346276\n",
       "recr_info_professional_occ                135286\n",
       "recr_info_radio_tv_ad_from                354009\n",
       "recr_info_radio_tv_ad_to                  354008\n",
       "recr_info_second_ad_start                 141466\n",
       "recr_info_sunday_newspaper                141340\n",
       "recr_info_swa_job_order_end               141465\n",
       "recr_info_swa_job_order_start             141443\n",
       "refile                                    256283\n",
       "ri_1st_ad_newspaper_name                  137634\n",
       "ri_2nd_ad_newspaper_name                  137666\n",
       "ri_2nd_ad_newspaper_or_journal            141448\n",
       "ri_campus_placement_from                  344359\n",
       "ri_campus_placement_to                    344369\n",
       "ri_coll_tch_basic_process                 367349\n",
       "ri_coll_teach_pro_jnl                     221788\n",
       "ri_coll_teach_select_date                 368632\n",
       "ri_employee_referral_prog_from            305641\n",
       "ri_employee_referral_prog_to              305640\n",
       "ri_employer_web_post_from                 237726\n",
       "ri_employer_web_post_to                   237748\n",
       "ri_job_search_website_from                177571\n",
       "ri_job_search_website_to                  177581\n",
       "ri_layoff_in_past_six_months              135303\n",
       "ri_local_ethnic_paper_from                253481\n",
       "ri_local_ethnic_paper_to                  253481\n",
       "ri_posted_notice_at_worksite              135360\n",
       "ri_pvt_employment_firm_from               357920\n",
       "ri_pvt_employment_firm_to                 357922\n",
       "ri_us_workers_considered                  357129\n",
       "schd_a_sheepherder                        135288\n",
       "us_economic_sector                        245294\n",
       "wage_offer_from_9089                      114771\n",
       "wage_offer_to_9089                        300728\n",
       "wage_offer_unit_of_pay_9089               115916\n",
       "wage_offered_from_9089                    259715\n",
       "wage_offered_to_9089                      343347\n",
       "wage_offered_unit_of_pay_9089             303663\n",
       "dtype: int64"
      ]
     },
     "execution_count": 8,
     "metadata": {},
     "output_type": "execute_result"
    }
   ],
   "source": [
    "# Check total null values present for all attributes in data\n",
    "df.isnull().sum()"
   ]
  },
  {
   "cell_type": "markdown",
   "metadata": {},
   "source": [
    "## Data Pre-Processing and EDA\n",
    "\n",
    "- Here, we have followed the CRISP-DM methodology which consists of following steps in the mentioned order: Business & Data Understanding -> Data cleaning & Pre-processing -> Modeling -> Performance Evaluation -> Deployment\n",
    "- We have performed the below data pre-processing techniques:\n",
    "\n",
    "1) Data Transformations\n",
    "\n",
    "2) Exploratory Data Analysis\n",
    "\n",
    "3) Feature Selection\n",
    "\n",
    "4) Handling NaN values\n",
    "\n",
    "5) Feature engineering: Under sampling & Label encoding\n",
    "\n",
    "6) Normalization and Scaling"
   ]
  },
  {
   "cell_type": "markdown",
   "metadata": {},
   "source": [
    "### 1) Data Transformations\n",
    "\n",
    "- We have merged ‘case_number’ and ‘case_no’ features into a single feature ‘casenumber’ as both of these features consisted of similar values. We have then removed the 'case_number' and 'case_no' features\n",
    "\n",
    "- We have transformed the target attribute 'case_status' into a binary output label by merging all the observations for 'Certified-Expired' and 'Certified' case status and removing all the 'Withdrawn' case status. Our final dataframe consists of 'case_status' with binary label - 'Certified' and 'Denied'. We have replaced the value in target attribute - 0 for 'Denied' and 1 for 'Certified' later on for machine learning purpose\n",
    "\n",
    "- We have created a new feature ‘year’ from the ‘decision_date’ attribute and dropped the 'decision_date' column"
   ]
  },
  {
   "cell_type": "code",
   "execution_count": 9,
   "metadata": {},
   "outputs": [
    {
     "name": "stdout",
     "output_type": "stream",
     "text": [
      "Null values in case_number: 135269\n",
      "Null values in case_no: 239093\n"
     ]
    }
   ],
   "source": [
    "# print null values for case_number and case_no attributes\n",
    "print('Null values in case_number:',df['case_number'].isnull().sum())\n",
    "print('Null values in case_no:',df['case_no'].isnull().sum())"
   ]
  },
  {
   "cell_type": "code",
   "execution_count": 10,
   "metadata": {},
   "outputs": [],
   "source": [
    "# merging the two attributes into a single feature - casenumber\n",
    "casenumber_list1 = df['case_number'].tolist()\n",
    "casenumber_list2 = df['case_no'].tolist()\n",
    "casenumber_list3 = casenumber_list1 + casenumber_list2\n",
    "casenumber = [x for x in casenumber_list3 if str(x) != 'nan']\n",
    "df['casenumber'] = casenumber"
   ]
  },
  {
   "cell_type": "code",
   "execution_count": 11,
   "metadata": {},
   "outputs": [],
   "source": [
    "# remove the initial two attributes\n",
    "del df['case_number']\n",
    "del df['case_no']"
   ]
  },
  {
   "cell_type": "code",
   "execution_count": 13,
   "metadata": {},
   "outputs": [
    {
     "data": {
      "text/plain": [
       "Certified            181933\n",
       "Certified-Expired    148586\n",
       "Denied                25649\n",
       "Withdrawn             18194\n",
       "Name: case_status, dtype: int64"
      ]
     },
     "execution_count": 13,
     "metadata": {},
     "output_type": "execute_result"
    }
   ],
   "source": [
    "# check the count of values for target attribute before transformation\n",
    "df['case_status'].value_counts()"
   ]
  },
  {
   "cell_type": "code",
   "execution_count": 14,
   "metadata": {},
   "outputs": [],
   "source": [
    "# removing all withdrawn applications\n",
    "df = df.loc[df['case_status']!='Withdrawn']"
   ]
  },
  {
   "cell_type": "code",
   "execution_count": 15,
   "metadata": {},
   "outputs": [],
   "source": [
    "# combining certified-expired and certified applications into one type i.e. 'certified'\n",
    "df['case_status'] = df['case_status'].replace(['Certified-Expired'], 'Certified')"
   ]
  },
  {
   "cell_type": "code",
   "execution_count": 16,
   "metadata": {},
   "outputs": [],
   "source": [
    "# creating new feature 'year' by extracting year from 'decision_date'\n",
    "df['year'] = df['decision_date'].dt.year\n"
   ]
  },
  {
   "cell_type": "code",
   "execution_count": 17,
   "metadata": {},
   "outputs": [
    {
     "data": {
      "text/plain": [
       "Certified    330519\n",
       "Denied        25649\n",
       "Name: case_status, dtype: int64"
      ]
     },
     "execution_count": 17,
     "metadata": {},
     "output_type": "execute_result"
    }
   ],
   "source": [
    "# check the count of values for target attribute after transformation\n",
    "df['case_status'].value_counts()"
   ]
  },
  {
   "cell_type": "code",
   "execution_count": null,
   "metadata": {},
   "outputs": [],
   "source": [
    "# transforming values present in the target attribute - 0 for Denied and 1 for Certified\n",
    "df['case_status'] = df['case_status'].map(dict(Certified=1, Denied=0))"
   ]
  },
  {
   "cell_type": "markdown",
   "metadata": {},
   "source": [
    "### 2) Exploratory Data Analysis"
   ]
  },
  {
   "cell_type": "markdown",
   "metadata": {},
   "source": [
    "#### The first plot represents the total visa applications for each year. We can see from the below plot that the total visa applications that are certified have been increasing in the 5-year span. The denied visa applications count remains almost constant from 2011 to 2016"
   ]
  },
  {
   "cell_type": "code",
   "execution_count": 18,
   "metadata": {},
   "outputs": [
    {
     "data": {
      "text/plain": [
       "Text(0.5, 1.0, 'Plot of Total Visa Applications vs Year')"
      ]
     },
     "execution_count": 18,
     "metadata": {},
     "output_type": "execute_result"
    },
    {
     "data": {
      "image/png": "[encoded data removed]",
      "text/plain": [
       "<Figure size 864x576 with 1 Axes>"
      ]
     },
     "metadata": {
      "needs_background": "light"
     },
     "output_type": "display_data"
    }
   ],
   "source": [
    "# number of Visa applicatons per year\n",
    "plt.figure(figsize=(12,8))\n",
    "sns.countplot(x=\"year\", hue=\"case_status\", data=df)\n",
    "plt.xlabel('Year')\n",
    "plt.ylabel('Total Visa applicatons')\n",
    "plt.title(\"Plot of Total Visa Applications vs Year\")"
   ]
  },
  {
   "cell_type": "code",
   "execution_count": 19,
   "metadata": {},
   "outputs": [
    {
     "data": {
      "text/plain": [
       "NEW YORK           15992\n",
       "COLLEGE STATION    11983\n",
       "SANTA CLARA        10446\n",
       "SAN JOSE            9004\n",
       "REDMOND             8469\n",
       "MOUNTAIN VIEW       8023\n",
       "HOUSTON             6128\n",
       "SUNNYVALE           6050\n",
       "SAN FRANCISCO       5951\n",
       "PLANO               5491\n",
       "Name: employer_city, dtype: int64"
      ]
     },
     "execution_count": 19,
     "metadata": {},
     "output_type": "execute_result"
    }
   ],
   "source": [
    "# displaying 10 most popular cities\n",
    "df['employer_city'].value_counts().head(10)"
   ]
  },
  {
   "cell_type": "markdown",
   "metadata": {},
   "source": [
    "#### This plot shows the distribution of number of visa applications for each year for top 10 popular cities. We can see that some of the most popular cities that file for applications in the US are New York, College Station, Mountain View, Houston, San Francisco"
   ]
  },
  {
   "cell_type": "code",
   "execution_count": 20,
   "metadata": {},
   "outputs": [
    {
     "data": {
      "text/plain": [
       "Text(0.5, 1.0, 'Plot of Total Visa Applications for each Year vs Top 10 Employer Cities')"
      ]
     },
     "execution_count": 20,
     "metadata": {},
     "output_type": "execute_result"
    },
    {
     "data": {
      "image/png": "[encoded data removed]",
      "text/plain": [
       "<Figure size 864x576 with 1 Axes>"
      ]
     },
     "metadata": {
      "needs_background": "light"
     },
     "output_type": "display_data"
    }
   ],
   "source": [
    "# number of visa applications per year in top 10 popular cities\n",
    "plt.figure(figsize=(12,8))\n",
    "sns.countplot(x='employer_city', hue='year', data=df, order=df['employer_city'].value_counts().iloc[:10].index)\n",
    "plt.xticks(rotation=45)\n",
    "plt.xlabel('Employer City')\n",
    "plt.ylabel('Total Visa applicatons')\n",
    "plt.title(\"Plot of Total Visa Applications for each Year vs Top 10 Employer Cities\")"
   ]
  },
  {
   "cell_type": "code",
   "execution_count": 21,
   "metadata": {},
   "outputs": [
    {
     "data": {
      "text/plain": [
       "COGNIZANT TECHNOLOGY SOLUTIONS US CORPORATION    11936\n",
       "MICROSOFT CORPORATION                             8082\n",
       "INTEL CORPORATION                                 6120\n",
       "GOOGLE INC.                                       5060\n",
       "AMAZON CORPORATE LLC                              3639\n",
       "CISCO SYSTEMS, INC.                               2592\n",
       "APPLE INC.                                        2536\n",
       "ORACLE AMERICA, INC.                              2505\n",
       "INFOSYS LTD.                                      2498\n",
       "DELOITTE CONSULTING LLP                           1689\n",
       "Name: employer_name, dtype: int64"
      ]
     },
     "execution_count": 21,
     "metadata": {},
     "output_type": "execute_result"
    }
   ],
   "source": [
    "# displaying 10 most popular employers\n",
    "df['employer_name'].value_counts().head(10)"
   ]
  },
  {
   "cell_type": "markdown",
   "metadata": {},
   "source": [
    "#### This plot shows distribution of number of visa applications w.r.t. top 10 popular employers. Cognizant, Microsoft, Intel, Google and Amazon are the top 5 employers that file for most visa applications"
   ]
  },
  {
   "cell_type": "code",
   "execution_count": 22,
   "metadata": {},
   "outputs": [
    {
     "data": {
      "text/plain": [
       "Text(0.5, 1.0, 'Plot of Total Visa Applications vs Top 10 Most Popular Employers')"
      ]
     },
     "execution_count": 22,
     "metadata": {},
     "output_type": "execute_result"
    },
    {
     "data": {
      "image/png": "[encoded data removed]",
      "text/plain": [
       "<Figure size 864x576 with 1 Axes>"
      ]
     },
     "metadata": {
      "needs_background": "light"
     },
     "output_type": "display_data"
    }
   ],
   "source": [
    "# checking distribution of number of visa applications w.r.t. top 10 popular employers\n",
    "plt.figure(figsize=(12,8))\n",
    "sns.countplot(x='employer_name', data=df, order=df['employer_name'].value_counts().iloc[:10].index)\n",
    "plt.xticks(rotation=90)\n",
    "plt.xlabel('Employer Name')\n",
    "plt.ylabel('Total Visa applicatons')\n",
    "plt.title(\"Plot of Total Visa Applications vs Top 10 Most Popular Employers\")"
   ]
  },
  {
   "cell_type": "code",
   "execution_count": 23,
   "metadata": {},
   "outputs": [
    {
     "data": {
      "text/plain": [
       "Software Engineer                   14372\n",
       "Computer Systems Analyst - V         4747\n",
       "Senior Software Engineer             3801\n",
       "Computer Systems Analyst - II        3416\n",
       "Software Developer                   2880\n",
       "Assistant Professor                  2604\n",
       "Programmer Analyst                   2534\n",
       "Computer Systems Analyst - IV        2496\n",
       "Systems Analyst                      2034\n",
       "Software Development Engineer II     1630\n",
       "Name: job_info_job_title, dtype: int64"
      ]
     },
     "execution_count": 23,
     "metadata": {},
     "output_type": "execute_result"
    }
   ],
   "source": [
    "# Checking distribution of number of visa applications w.r.t. 10 most popular job titles\n",
    "df['job_info_job_title'].value_counts().head(10)"
   ]
  },
  {
   "cell_type": "markdown",
   "metadata": {},
   "source": [
    "#### The below plot shows the distribution of number of visa applications w.r.t. 10 most popular job titles. We can see from the below plot that most of the job titles are related to the Information Technology industry"
   ]
  },
  {
   "cell_type": "code",
   "execution_count": 24,
   "metadata": {},
   "outputs": [
    {
     "data": {
      "text/plain": [
       "Text(0.5, 1.0, 'Plot of Total Visa Applications vs Top 10 Most Popular Jobs')"
      ]
     },
     "execution_count": 24,
     "metadata": {},
     "output_type": "execute_result"
    },
    {
     "data": {
      "image/png": "[encoded data removed]",
      "text/plain": [
       "<Figure size 864x576 with 1 Axes>"
      ]
     },
     "metadata": {
      "needs_background": "light"
     },
     "output_type": "display_data"
    }
   ],
   "source": [
    "# plotting visa application count vs 10 most popular jobs\n",
    "plt.figure(figsize=(12,8))\n",
    "sns.countplot(x='job_info_job_title', data=df, order=df['job_info_job_title'].value_counts().iloc[:10].index)\n",
    "plt.xticks(rotation=90)\n",
    "plt.xlabel('Job Title')\n",
    "plt.ylabel('Total Visa applicatons')\n",
    "plt.title(\"Plot of Total Visa Applications vs Top 10 Most Popular Jobs\")"
   ]
  },
  {
   "cell_type": "code",
   "execution_count": 25,
   "metadata": {},
   "outputs": [
    {
     "data": {
      "text/plain": [
       "INDIA             186777\n",
       "CHINA              26418\n",
       "SOUTH KOREA        21218\n",
       "CANADA             13129\n",
       "MEXICO              7917\n",
       "PHILIPPINES         7485\n",
       "UNITED KINGDOM      4414\n",
       "TAIWAN              3690\n",
       "PAKISTAN            3507\n",
       "FRANCE              2871\n",
       "Name: country_of_citizenship, dtype: int64"
      ]
     },
     "execution_count": 25,
     "metadata": {},
     "output_type": "execute_result"
    }
   ],
   "source": [
    "# Checking distribution of number of visa applications w.r.t. country_of_citizenship\n",
    "df['country_of_citizenship'].value_counts().head(10)"
   ]
  },
  {
   "cell_type": "markdown",
   "metadata": {},
   "source": [
    "#### Below distribution is a plot of number of visa applications w.r.t. country of citizenship. We can see that most of the employees filing applications are from India, China, South Korea, Canada and Mexico"
   ]
  },
  {
   "cell_type": "code",
   "execution_count": 26,
   "metadata": {},
   "outputs": [
    {
     "data": {
      "text/plain": [
       "Text(0.5, 1.0, 'Plot of Total Visa Applications vs Top 10 Most Popular Country of Citizenship')"
      ]
     },
     "execution_count": 26,
     "metadata": {},
     "output_type": "execute_result"
    },
    {
     "data": {
      "image/png": "[encoded data removed]",
      "text/plain": [
       "<Figure size 864x576 with 1 Axes>"
      ]
     },
     "metadata": {
      "needs_background": "light"
     },
     "output_type": "display_data"
    }
   ],
   "source": [
    "# plot of number of visa applications w.r.t. country_of_citizenship\n",
    "plt.figure(figsize=(12,8))\n",
    "sns.countplot(x='country_of_citizenship', data=df, order=df['country_of_citizenship'].value_counts().iloc[:10].index)\n",
    "plt.xticks(rotation=90)\n",
    "plt.xlabel('Country of Citizenship')\n",
    "plt.ylabel('Total Visa applicatons')\n",
    "plt.title(\"Plot of Total Visa Applications vs Top 10 Most Popular Country of Citizenship\")"
   ]
  },
  {
   "cell_type": "code",
   "execution_count": 27,
   "metadata": {},
   "outputs": [
    {
     "data": {
      "text/plain": [
       "H-1B          270467\n",
       "L-1            19301\n",
       "F-1            13994\n",
       "Not in USA      7713\n",
       "TN              4069\n",
       "E-2             3941\n",
       "B-2             3164\n",
       "Parolee         2503\n",
       "EWI             1878\n",
       "J-1              905\n",
       "Name: class_of_admission, dtype: int64"
      ]
     },
     "execution_count": 27,
     "metadata": {},
     "output_type": "execute_result"
    }
   ],
   "source": [
    "# Checking distribution of number of visa applications w.r.t. class_of_admission\n",
    "df['class_of_admission'].value_counts().head(10)"
   ]
  },
  {
   "cell_type": "markdown",
   "metadata": {},
   "source": [
    "#### Below plot shows the distribution of number of visa applications w.r.t. type of visa. We can infer that most of the visa pplications are for H1-B, L1 and F1 class of admissions"
   ]
  },
  {
   "cell_type": "code",
   "execution_count": 28,
   "metadata": {},
   "outputs": [
    {
     "data": {
      "text/plain": [
       "Text(0.5, 1.0, 'Plot of Total Visa Applications vs Top 10 Most Popular Class of Admission')"
      ]
     },
     "execution_count": 28,
     "metadata": {},
     "output_type": "execute_result"
    },
    {
     "data": {
      "image/png": "[encoded data removed]",
      "text/plain": [
       "<Figure size 864x576 with 1 Axes>"
      ]
     },
     "metadata": {
      "needs_background": "light"
     },
     "output_type": "display_data"
    }
   ],
   "source": [
    "# plot of number of visa applications w.r.t. class_of_admission\n",
    "plt.figure(figsize=(12,8))\n",
    "sns.countplot(x='class_of_admission', data=df, order=df['class_of_admission'].value_counts().iloc[:10].index)\n",
    "plt.xticks(rotation=90)\n",
    "plt.xlabel('Class of Admission')\n",
    "plt.ylabel('Total Visa applicatons')\n",
    "plt.title(\"Plot of Total Visa Applications vs Top 10 Most Popular Class of Admission\")"
   ]
  },
  {
   "cell_type": "code",
   "execution_count": 29,
   "metadata": {},
   "outputs": [
    {
     "data": {
      "text/plain": [
       "ONLINE      105616\n",
       "PERM         19219\n",
       "MAILEDIN      2013\n",
       "Name: application_type, dtype: int64"
      ]
     },
     "execution_count": 29,
     "metadata": {},
     "output_type": "execute_result"
    }
   ],
   "source": [
    "# Checking distribution of number of visa applications w.r.t. application_type\n",
    "df['application_type'].value_counts()"
   ]
  },
  {
   "cell_type": "markdown",
   "metadata": {},
   "source": [
    "#### Below distribution represents number of visa applications w.r.t. Mode of application. We can see that most of the applications are filed using the online mode"
   ]
  },
  {
   "cell_type": "code",
   "execution_count": 30,
   "metadata": {},
   "outputs": [
    {
     "data": {
      "text/plain": [
       "Text(0.5, 1.0, 'Plot of Total Visa Applications vs Application Type')"
      ]
     },
     "execution_count": 30,
     "metadata": {},
     "output_type": "execute_result"
    },
    {
     "data": {
      "image/png": "[encoded data removed]",
      "text/plain": [
       "<Figure size 864x576 with 1 Axes>"
      ]
     },
     "metadata": {
      "needs_background": "light"
     },
     "output_type": "display_data"
    }
   ],
   "source": [
    "# plot of number of visa applications w.r.t. application_type\n",
    "plt.figure(figsize=(12,8))\n",
    "sns.countplot(x='application_type', data=df, order=df['application_type'].value_counts().iloc[:3].index)\n",
    "plt.xticks(rotation=90)\n",
    "plt.xlabel('Application Type')\n",
    "plt.ylabel('Total Visa applicatons')\n",
    "plt.title(\"Plot of Total Visa Applications vs Application Type\")"
   ]
  },
  {
   "cell_type": "code",
   "execution_count": 31,
   "metadata": {},
   "outputs": [
    {
     "data": {
      "text/plain": [
       "Master's       99892\n",
       "Bachelor's     84674\n",
       "None           16667\n",
       "Doctorate      11759\n",
       "Other           9807\n",
       "High School     4257\n",
       "Associate's     2225\n",
       "Name: foreign_worker_info_education, dtype: int64"
      ]
     },
     "execution_count": 31,
     "metadata": {},
     "output_type": "execute_result"
    }
   ],
   "source": [
    "# Checking distribution of number of visa applications w.r.t. foreign_worker_info_education\n",
    "df['foreign_worker_info_education'].value_counts()"
   ]
  },
  {
   "cell_type": "markdown",
   "metadata": {},
   "source": [
    "#### Plot of number of visa applications w.r.t. education level. Below plot represents that most of the employees filing for visa applications have obtained master's and bachelor's degree"
   ]
  },
  {
   "cell_type": "code",
   "execution_count": 32,
   "metadata": {},
   "outputs": [
    {
     "data": {
      "text/plain": [
       "Text(0.5, 1.0, 'Plot of Total Visa Applications vs Education Level')"
      ]
     },
     "execution_count": 32,
     "metadata": {},
     "output_type": "execute_result"
    },
    {
     "data": {
      "image/png": "[encoded data removed]",
      "text/plain": [
       "<Figure size 864x576 with 1 Axes>"
      ]
     },
     "metadata": {
      "needs_background": "light"
     },
     "output_type": "display_data"
    }
   ],
   "source": [
    "# plot of number of visa applications w.r.t. foreign_worker_info_education\n",
    "plt.figure(figsize=(12,8))\n",
    "sns.countplot(x='foreign_worker_info_education', data=df, order=df['foreign_worker_info_education'].value_counts().iloc[:7].index)\n",
    "plt.xticks(rotation=90)\n",
    "plt.xlabel('Education Level')\n",
    "plt.ylabel('Total Visa applicatons')\n",
    "plt.title(\"Plot of Total Visa Applications vs Education Level\")"
   ]
  },
  {
   "cell_type": "markdown",
   "metadata": {},
   "source": [
    "### 3) Feature Selection\n",
    "\n",
    "- For feature selection, as our original dataset consisted of 154 columns, we have dropped all the columns consisting more than 20% missing values as imputing such a large portion of our dataset would be impractical"
   ]
  },
  {
   "cell_type": "code",
   "execution_count": 33,
   "metadata": {},
   "outputs": [
    {
     "name": "stdout",
     "output_type": "stream",
     "text": [
      "add_these_pw_job_title_9089               89.011646\n",
      "agent_city                                43.084163\n",
      "agent_firm_name                           44.261697\n",
      "agent_state                               43.952292\n",
      "application_type                          64.385346\n",
      "case_received_date                        35.614654\n",
      "case_status                                0.000000\n",
      "class_of_admission                         5.919959\n",
      "country_of_citizenship                     5.410930\n",
      "country_of_citzenship                     94.604512\n",
      "decision_date                              0.000000\n",
      "employer_address_1                         0.010388\n",
      "employer_address_2                        39.595359\n",
      "employer_city                              0.002808\n",
      "employer_country                          35.634869\n",
      "employer_decl_info_title                  35.625042\n",
      "employer_name                              0.002246\n",
      "employer_num_employees                    35.636273\n",
      "employer_phone                            35.624481\n",
      "employer_phone_ext                        93.683318\n",
      "employer_postal_code                       0.009265\n",
      "employer_state                             0.010388\n",
      "employer_yr_estab                         35.652276\n",
      "foreign_worker_info_alt_edu_experience    76.335606\n",
      "foreign_worker_info_birth_country         76.334763\n",
      "foreign_worker_info_city                  35.622234\n",
      "foreign_worker_info_education             35.625604\n",
      "foreign_worker_info_education_other       98.947968\n",
      "foreign_worker_info_inst                  40.397509\n",
      "foreign_worker_info_major                 40.654972\n",
      "foreign_worker_info_postal_code           77.049314\n",
      "foreign_worker_info_rel_occup_exp         76.333360\n",
      "foreign_worker_info_req_experience        76.332798\n",
      "foreign_worker_info_state                 39.994609\n",
      "foreign_worker_info_training_comp         76.333079\n",
      "foreign_worker_ownership_interest         76.331956\n",
      "foreign_worker_yr_rel_edu_completed       77.697884\n",
      "fw_info_alt_edu_experience                59.284944\n",
      "fw_info_birth_country                     59.288313\n",
      "fw_info_education_other                   59.403428\n",
      "fw_info_postal_code                       59.881854\n",
      "fw_info_rel_occup_exp                     59.285786\n",
      "fw_info_req_experience                    59.284663\n",
      "fw_info_training_comp                     59.285506\n",
      "fw_info_yr_rel_edu_completed              62.647683\n",
      "fw_ownership_interest                     59.284944\n",
      "ji_foreign_worker_live_on_premises        76.332236\n",
      "ji_fw_live_on_premises                    59.284383\n",
      "ji_live_in_dom_svc_contract               99.350587\n",
      "ji_live_in_domestic_service               35.617461\n",
      "ji_offered_to_sec_j_foreign_worker        76.332236\n",
      "ji_offered_to_sec_j_fw                    59.284383\n",
      "job_info_alt_cmb_ed_oth_yrs               80.928663\n",
      "job_info_alt_combo_ed                     80.835168\n",
      "job_info_alt_combo_ed_exp                 35.623919\n",
      "job_info_alt_combo_ed_other               97.475349\n",
      "job_info_alt_field                        35.623638\n",
      "job_info_alt_field_name                   74.657746\n",
      "job_info_alt_occ                          59.850688\n",
      "job_info_alt_occ_job_title                60.041048\n",
      "job_info_alt_occ_num_months               60.096640\n",
      "job_info_combo_occupation                 35.616619\n",
      "job_info_education                        35.617742\n",
      "job_info_education_other                  97.909975\n",
      "job_info_experience                       35.617461\n",
      "job_info_experience_num_months            63.796298\n",
      "job_info_foreign_ed                       35.678388\n",
      "job_info_foreign_lang_req                 35.618584\n",
      "job_info_job_req_normal                   35.617742\n",
      "job_info_job_title                        35.626165\n",
      "job_info_major                            42.418465\n",
      "job_info_training                         35.618304\n",
      "job_info_training_field                   98.795231\n",
      "job_info_training_num_months              98.716336\n",
      "job_info_work_city                         0.026673\n",
      "job_info_work_postal_code                 35.637677\n",
      "job_info_work_state                        0.026954\n",
      "naics_2007_us_code                        94.620797\n",
      "naics_2007_us_title                       94.786168\n",
      "naics_code                                76.388109\n",
      "naics_title                               76.388109\n",
      "naics_us_code                             59.372824\n",
      "naics_us_code_2007                        69.888648\n",
      "naics_us_title                            59.372824\n",
      "naics_us_title_2007                       70.723086\n",
      "orig_case_no                              99.922508\n",
      "orig_file_date                            99.925878\n",
      "preparer_info_emp_completed               35.625042\n",
      "preparer_info_title                       43.406763\n",
      "pw_amount_9089                             0.618528\n",
      "pw_determ_date                            35.702253\n",
      "pw_expire_date                            35.724433\n",
      "pw_job_title_908                          59.302913\n",
      "pw_job_title_9089                         40.804901\n",
      "pw_level_9089                              7.464174\n",
      "pw_soc_code                                0.109499\n",
      "pw_soc_title                               0.651659\n",
      "pw_source_name_9089                        0.585959\n",
      "pw_source_name_other_9089                 95.720840\n",
      "pw_track_num                              36.131545\n",
      "pw_unit_of_pay_9089                        0.415815\n",
      "rec_info_barg_rep_notified                76.348802\n",
      "recr_info_barg_rep_notified               59.288033\n",
      "recr_info_coll_teach_comp_proc            98.092473\n",
      "recr_info_coll_univ_teacher               35.622515\n",
      "recr_info_employer_rec_payment            35.619146\n",
      "recr_info_first_ad_start                  37.287460\n",
      "recr_info_job_fair_from                   99.516801\n",
      "recr_info_job_fair_to                     99.517924\n",
      "recr_info_on_campus_recr_from             99.504447\n",
      "recr_info_on_campus_recr_to               99.506413\n",
      "recr_info_pro_org_advert_from             96.267211\n",
      "recr_info_pro_org_advert_to               96.268896\n",
      "recr_info_prof_org_advert_from            92.307843\n",
      "recr_info_prof_org_advert_to              92.309809\n",
      "recr_info_professional_occ                35.618304\n",
      "recr_info_radio_tv_ad_from                94.524494\n",
      "recr_info_radio_tv_ad_to                  94.524213\n",
      "recr_info_second_ad_start                 37.297848\n",
      "recr_info_sunday_newspaper                37.262472\n",
      "recr_info_swa_job_order_end               37.297287\n",
      "recr_info_swa_job_order_start             37.291110\n",
      "refile                                    69.591036\n",
      "ri_1st_ad_newspaper_name                  36.250870\n",
      "ri_2nd_ad_newspaper_name                  36.259574\n",
      "ri_2nd_ad_newspaper_or_journal            37.292794\n",
      "ri_campus_placement_from                  91.917297\n",
      "ri_campus_placement_to                    91.920105\n",
      "ri_coll_tch_basic_process                 98.094719\n",
      "ri_coll_teach_pro_jnl                     58.712462\n",
      "ri_coll_teach_select_date                 98.443993\n",
      "ri_employee_referral_prog_from            81.380978\n",
      "ri_employee_referral_prog_to              81.380697\n",
      "ri_employer_web_post_from                 62.969441\n",
      "ri_employer_web_post_to                   62.975899\n",
      "ri_job_search_website_from                46.713068\n",
      "ri_job_search_website_to                  46.716156\n",
      "ri_layoff_in_past_six_months              35.623077\n",
      "ri_local_ethnic_paper_from                67.342659\n",
      "ri_local_ethnic_paper_to                  67.342378\n",
      "ri_posted_notice_at_worksite              35.636834\n",
      "ri_pvt_employment_firm_from               95.474607\n",
      "ri_pvt_employment_firm_to                 95.475169\n",
      "ri_us_workers_considered                  95.346859\n",
      "schd_a_sheepherder                        35.619708\n",
      "us_economic_sector                        66.064329\n",
      "wage_offer_from_9089                      30.239943\n",
      "wage_offer_to_9089                        80.129883\n",
      "wage_offer_unit_of_pay_9089               30.538678\n",
      "wage_offered_from_9089                    69.793468\n",
      "wage_offered_to_9089                      91.769053\n",
      "wage_offered_unit_of_pay_9089             81.273444\n",
      "casenumber                                 0.000000\n",
      "year                                       0.000000\n",
      "dtype: float64\n"
     ]
    }
   ],
   "source": [
    "# Check for % of missing values in training data\n",
    "percent_missing = df.isnull().sum() * 100 / len(df)\n",
    "print(percent_missing)"
   ]
  },
  {
   "cell_type": "code",
   "execution_count": 34,
   "metadata": {},
   "outputs": [
    {
     "data": {
      "text/plain": [
       "(356168, 154)"
      ]
     },
     "execution_count": 34,
     "metadata": {},
     "output_type": "execute_result"
    }
   ],
   "source": [
    "# check shape before feature selection\n",
    "df.shape"
   ]
  },
  {
   "cell_type": "code",
   "execution_count": 35,
   "metadata": {},
   "outputs": [],
   "source": [
    "# keeping those columns which have more than 284934 non-missing observations or 80% non missing values\n",
    "df = df.loc[:,df.count() >= 284934]"
   ]
  },
  {
   "cell_type": "code",
   "execution_count": 36,
   "metadata": {},
   "outputs": [
    {
     "data": {
      "text/plain": [
       "(356168, 19)"
      ]
     },
     "execution_count": 36,
     "metadata": {},
     "output_type": "execute_result"
    }
   ],
   "source": [
    "# check shape after feature selection\n",
    "df.shape"
   ]
  },
  {
   "cell_type": "markdown",
   "metadata": {},
   "source": [
    "### 4) Handling NaN values\n",
    "\n",
    "- We have imputed all the missing values in our remaining attributes with their respective mode values as most of the missing features are categorical\n",
    "\n",
    "-  We have also removed the irrelevant attributes after performing the imputations"
   ]
  },
  {
   "cell_type": "code",
   "execution_count": 37,
   "metadata": {},
   "outputs": [
    {
     "data": {
      "text/plain": [
       "case_status                   0\n",
       "class_of_admission        21085\n",
       "country_of_citizenship    19272\n",
       "decision_date                 0\n",
       "employer_address_1           37\n",
       "employer_city                10\n",
       "employer_name                 8\n",
       "employer_postal_code         33\n",
       "employer_state               37\n",
       "job_info_work_city           95\n",
       "job_info_work_state          96\n",
       "pw_amount_9089             2203\n",
       "pw_level_9089             26585\n",
       "pw_soc_code                 390\n",
       "pw_soc_title               2321\n",
       "pw_source_name_9089        2087\n",
       "pw_unit_of_pay_9089        1481\n",
       "casenumber                    0\n",
       "year                          0\n",
       "dtype: int64"
      ]
     },
     "execution_count": 37,
     "metadata": {},
     "output_type": "execute_result"
    }
   ],
   "source": [
    "# check for null values in the remaining attributes\n",
    "df.isnull().sum()"
   ]
  },
  {
   "cell_type": "code",
   "execution_count": null,
   "metadata": {},
   "outputs": [],
   "source": [
    "# imputing all attributes using the respective mode values\n",
    "df['class_of_admission'] = df['class_of_admission'].fillna(df['class_of_admission'].mode()[0])\n",
    "df['country_of_citizenship']=df['country_of_citizenship'].fillna((df['country_of_citizenship'].mode()[0]))\n",
    "df['employer_city']=df['employer_city'].fillna((df['employer_city'].mode()[0]))\n",
    "df['employer_name']=df['employer_name'].fillna((df['employer_name'].mode()[0]))\n",
    "df['employer_postal_code']=df['employer_postal_code'].fillna((df['employer_postal_code'].mode()[0]))\n",
    "df['employer_state'] = df['employer_state'].fillna(df['employer_state'].mode()[0])\n",
    "df['pw_amount_9089'] = df['pw_amount_9089'].fillna(df['pw_amount_9089'].mode()[0])\n",
    "df['pw_level_9089'] = df['pw_level_9089'].fillna(df['pw_level_9089'].mode()[0])\n",
    "df['pw_soc_code'] = df['pw_soc_code'].fillna(df['pw_soc_code'].mode()[0])\n",
    "df['pw_soc_title'] = df['pw_soc_title'].fillna(df['pw_soc_title'].mode()[0])\n",
    "df['pw_source_name_9089'] = df['pw_source_name_9089'].fillna(df['pw_source_name_9089'].mode()[0])\n",
    "df['pw_unit_of_pay_9089'] = df['pw_unit_of_pay_9089'].fillna(df['pw_unit_of_pay_9089'].mode()[0])\n",
    "\n",
    "# removing address as it has not significance in predicting decisions\n",
    "del df['employer_address_1']\n",
    "\n",
    "# removing below two attributes as we already have employer city and state\n",
    "del df['job_info_work_city']\n",
    "del df['job_info_work_state']\n",
    "\n",
    "# removing decision date attribute as we already have year attribute \n",
    "del df['decision_date']"
   ]
  },
  {
   "cell_type": "code",
   "execution_count": 49,
   "metadata": {},
   "outputs": [
    {
     "data": {
      "text/plain": [
       "case_status               0\n",
       "class_of_admission        0\n",
       "country_of_citizenship    0\n",
       "employer_city             0\n",
       "employer_name             0\n",
       "employer_postal_code      0\n",
       "employer_state            0\n",
       "pw_amount_9089            0\n",
       "pw_level_9089             0\n",
       "pw_soc_code               0\n",
       "pw_soc_title              0\n",
       "pw_source_name_9089       0\n",
       "pw_unit_of_pay_9089       0\n",
       "casenumber                0\n",
       "year                      0\n",
       "dtype: int64"
      ]
     },
     "execution_count": 49,
     "metadata": {},
     "output_type": "execute_result"
    }
   ],
   "source": [
    "# check for null values after final imputations\n",
    "df.isnull().sum()"
   ]
  },
  {
   "cell_type": "markdown",
   "metadata": {},
   "source": [
    "### 5) Feature Engineering: Under sampling technique to tackle imbalanced target attribute \n",
    "\n",
    "- Our initial dataset was highly imbalanced with respect to the target attribute\n",
    "\n",
    "- To tackle the imbalanced dataset problem, we have leveraged the under-sampling technique. We have brought down the count of overrepresented classes to match the count of underrepresented classes using a random sample which has been extracted from the original dataset\n",
    "\n",
    "- Our final under sampled dataset contains 50000 observations and 15 features"
   ]
  },
  {
   "cell_type": "code",
   "execution_count": 52,
   "metadata": {},
   "outputs": [
    {
     "data": {
      "text/plain": [
       "Text(0.5, 1.0, 'Distribution of Visa status for our dataset')"
      ]
     },
     "execution_count": 52,
     "metadata": {},
     "output_type": "execute_result"
    },
    {
     "data": {
      "image/png": "[encoded data removed]",
      "text/plain": [
       "<Figure size 432x288 with 1 Axes>"
      ]
     },
     "metadata": {
      "needs_background": "light"
     },
     "output_type": "display_data"
    }
   ],
   "source": [
    "# Countplot to check the distribution of labels in attribute - 'Disease' before performing under sampling\n",
    "sns.countplot(x=\"case_status\", data=df).set_title('Distribution of Visa status for our dataset')"
   ]
  },
  {
   "cell_type": "code",
   "execution_count": 53,
   "metadata": {},
   "outputs": [
    {
     "data": {
      "text/plain": [
       "1    330519\n",
       "0     25649\n",
       "Name: case_status, dtype: int64"
      ]
     },
     "execution_count": 53,
     "metadata": {},
     "output_type": "execute_result"
    }
   ],
   "source": [
    "# checking value counts for target attribute before under sampling\n",
    "df['case_status'].value_counts()"
   ]
  },
  {
   "cell_type": "code",
   "execution_count": 54,
   "metadata": {},
   "outputs": [],
   "source": [
    "# implementing under sampling on target attribute\n",
    "sample_df = df.groupby('case_status').apply(lambda x: x.sample(n=25000)).reset_index(drop = True)"
   ]
  },
  {
   "cell_type": "code",
   "execution_count": 55,
   "metadata": {},
   "outputs": [
    {
     "data": {
      "text/plain": [
       "1    25000\n",
       "0    25000\n",
       "Name: case_status, dtype: int64"
      ]
     },
     "execution_count": 55,
     "metadata": {},
     "output_type": "execute_result"
    }
   ],
   "source": [
    "# checking value counts for target attribute after under sampling\n",
    "sample_df['case_status'].value_counts()"
   ]
  },
  {
   "cell_type": "code",
   "execution_count": 56,
   "metadata": {},
   "outputs": [
    {
     "data": {
      "text/plain": [
       "Text(0.5, 1.0, 'Distribution of Visa status for our sampled dataset')"
      ]
     },
     "execution_count": 56,
     "metadata": {},
     "output_type": "execute_result"
    },
    {
     "data": {
      "image/png": "[encoded data removed]",
      "text/plain": [
       "<Figure size 432x288 with 1 Axes>"
      ]
     },
     "metadata": {
      "needs_background": "light"
     },
     "output_type": "display_data"
    }
   ],
   "source": [
    "# Countplot to check the distribution of labels in attribute - 'Disease' after performing under sampling\n",
    "sns.countplot(x=\"case_status\", data=sample_df).set_title('Distribution of Visa status for our sampled dataset')"
   ]
  },
  {
   "cell_type": "code",
   "execution_count": 57,
   "metadata": {},
   "outputs": [
    {
     "data": {
      "text/plain": [
       "(50000, 15)"
      ]
     },
     "execution_count": 57,
     "metadata": {},
     "output_type": "execute_result"
    }
   ],
   "source": [
    "# checking shape for final sampled dataset\n",
    "sample_df.shape"
   ]
  },
  {
   "cell_type": "markdown",
   "metadata": {},
   "source": [
    "### 5) Feature Engineering: Label Encoding\n",
    "\n",
    "- We have label encoded all the categorical features in order to feed them to the machine learning models"
   ]
  },
  {
   "cell_type": "code",
   "execution_count": 58,
   "metadata": {},
   "outputs": [],
   "source": [
    "# label encoding the sampled dataset\n",
    "sample_df = sample_df.apply(LabelEncoder().fit_transform)"
   ]
  },
  {
   "cell_type": "code",
   "execution_count": 60,
   "metadata": {},
   "outputs": [
    {
     "data": {
      "text/html": [
       "<div>\n",
       "<style scoped>\n",
       "    .dataframe tbody tr th:only-of-type {\n",
       "        vertical-align: middle;\n",
       "    }\n",
       "\n",
       "    .dataframe tbody tr th {\n",
       "        vertical-align: top;\n",
       "    }\n",
       "\n",
       "    .dataframe thead th {\n",
       "        text-align: right;\n",
       "    }\n",
       "</style>\n",
       "<table border=\"1\" class=\"dataframe\">\n",
       "  <thead>\n",
       "    <tr style=\"text-align: right;\">\n",
       "      <th></th>\n",
       "      <th>case_status</th>\n",
       "      <th>class_of_admission</th>\n",
       "      <th>country_of_citizenship</th>\n",
       "      <th>employer_city</th>\n",
       "      <th>employer_name</th>\n",
       "      <th>employer_postal_code</th>\n",
       "      <th>employer_state</th>\n",
       "      <th>pw_amount_9089</th>\n",
       "      <th>pw_level_9089</th>\n",
       "      <th>pw_soc_code</th>\n",
       "      <th>pw_soc_title</th>\n",
       "      <th>pw_source_name_9089</th>\n",
       "      <th>pw_unit_of_pay_9089</th>\n",
       "      <th>casenumber</th>\n",
       "      <th>year</th>\n",
       "    </tr>\n",
       "  </thead>\n",
       "  <tbody>\n",
       "    <tr>\n",
       "      <th>0</th>\n",
       "      <td>0</td>\n",
       "      <td>17</td>\n",
       "      <td>71</td>\n",
       "      <td>2545</td>\n",
       "      <td>8010</td>\n",
       "      <td>3579</td>\n",
       "      <td>92</td>\n",
       "      <td>13531</td>\n",
       "      <td>3</td>\n",
       "      <td>152</td>\n",
       "      <td>695</td>\n",
       "      <td>4</td>\n",
       "      <td>4</td>\n",
       "      <td>6195</td>\n",
       "      <td>5</td>\n",
       "    </tr>\n",
       "    <tr>\n",
       "      <th>1</th>\n",
       "      <td>0</td>\n",
       "      <td>28</td>\n",
       "      <td>162</td>\n",
       "      <td>3507</td>\n",
       "      <td>20460</td>\n",
       "      <td>376</td>\n",
       "      <td>12</td>\n",
       "      <td>2535</td>\n",
       "      <td>2</td>\n",
       "      <td>18</td>\n",
       "      <td>286</td>\n",
       "      <td>3</td>\n",
       "      <td>4</td>\n",
       "      <td>28341</td>\n",
       "      <td>1</td>\n",
       "    </tr>\n",
       "    <tr>\n",
       "      <th>2</th>\n",
       "      <td>0</td>\n",
       "      <td>32</td>\n",
       "      <td>167</td>\n",
       "      <td>3965</td>\n",
       "      <td>18001</td>\n",
       "      <td>5312</td>\n",
       "      <td>59</td>\n",
       "      <td>49</td>\n",
       "      <td>0</td>\n",
       "      <td>1015</td>\n",
       "      <td>470</td>\n",
       "      <td>3</td>\n",
       "      <td>1</td>\n",
       "      <td>7364</td>\n",
       "      <td>5</td>\n",
       "    </tr>\n",
       "    <tr>\n",
       "      <th>3</th>\n",
       "      <td>0</td>\n",
       "      <td>32</td>\n",
       "      <td>71</td>\n",
       "      <td>103</td>\n",
       "      <td>10690</td>\n",
       "      <td>2190</td>\n",
       "      <td>100</td>\n",
       "      <td>6320</td>\n",
       "      <td>0</td>\n",
       "      <td>97</td>\n",
       "      <td>1</td>\n",
       "      <td>3</td>\n",
       "      <td>4</td>\n",
       "      <td>345</td>\n",
       "      <td>3</td>\n",
       "    </tr>\n",
       "    <tr>\n",
       "      <th>4</th>\n",
       "      <td>0</td>\n",
       "      <td>3</td>\n",
       "      <td>34</td>\n",
       "      <td>2592</td>\n",
       "      <td>12406</td>\n",
       "      <td>4923</td>\n",
       "      <td>9</td>\n",
       "      <td>10736</td>\n",
       "      <td>1</td>\n",
       "      <td>152</td>\n",
       "      <td>695</td>\n",
       "      <td>3</td>\n",
       "      <td>4</td>\n",
       "      <td>34095</td>\n",
       "      <td>2</td>\n",
       "    </tr>\n",
       "  </tbody>\n",
       "</table>\n",
       "</div>"
      ],
      "text/plain": [
       "   case_status  class_of_admission  country_of_citizenship  employer_city  employer_name  employer_postal_code  employer_state  pw_amount_9089  pw_level_9089  pw_soc_code  pw_soc_title  pw_source_name_9089  pw_unit_of_pay_9089  casenumber  year\n",
       "0            0                  17                      71           2545           8010                  3579              92           13531              3          152           695                    4                    4        6195     5\n",
       "1            0                  28                     162           3507          20460                   376              12            2535              2           18           286                    3                    4       28341     1\n",
       "2            0                  32                     167           3965          18001                  5312              59              49              0         1015           470                    3                    1        7364     5\n",
       "3            0                  32                      71            103          10690                  2190             100            6320              0           97             1                    3                    4         345     3\n",
       "4            0                   3                      34           2592          12406                  4923               9           10736              1          152           695                    3                    4       34095     2"
      ]
     },
     "execution_count": 60,
     "metadata": {},
     "output_type": "execute_result"
    }
   ],
   "source": [
    "# printing final datatset head after label encoding\n",
    "sample_df.head()"
   ]
  },
  {
   "cell_type": "markdown",
   "metadata": {},
   "source": [
    "## Model Building\n",
    "\n",
    "- Here, we have performed some pre-processing steps required for all of our machine learning models\n",
    "\n",
    "- Firstly, we have performed a train-validation split on our training dataset using 70-30 as the size. This will help prevent our models from overfitting and we will also be able to perform hyper-parameter tuning on validation set\n",
    "\n",
    "- Secondly, we have used the StandardScalar technique to scale our dataset. This is an important technique which can help us improve the perfomance of our models. We have scaled the train data, validation data and the test data as well. Scaling the dataset in an important step for models that use distance-based techniques for prediction\n",
    "\n",
    "- Thirdly, we have created a generic AUC-ROC function which will help us generate the Area Under the Receiver Operating Characrteristic curve for all the models that can predict the probability of the target class labels"
   ]
  },
  {
   "cell_type": "markdown",
   "metadata": {},
   "source": [
    "## Evaluation Metric: F1 Score\n",
    "\n",
    "- The F-score is a way of combining the precision and recall of the model, and it is defined as the harmonic mean of the model’s precision and recall\n",
    "\n",
    "- In our visa prediction problem, both false negatives and false positives may have dangerous consequences and hence we have decided to go ahead with f1-score as the most important metric to evaluate our models"
   ]
  },
  {
   "cell_type": "code",
   "execution_count": 61,
   "metadata": {},
   "outputs": [],
   "source": [
    "# Define X & y for the split\n",
    "X = sample_df.drop('case_status', axis=1)\n",
    "y = sample_df['case_status']"
   ]
  },
  {
   "cell_type": "code",
   "execution_count": 62,
   "metadata": {},
   "outputs": [],
   "source": [
    "# 70-30 train-validation split\n",
    "X_train, X_test, y_train, y_test = train_test_split(X, y, test_size=0.3, random_state=30)"
   ]
  },
  {
   "cell_type": "markdown",
   "metadata": {},
   "source": [
    "### 6) Normalization and Scaling\n",
    "\n",
    "- For the final data preprocessing step, we have normalized and scaled all the input features using the standard scalar technique so that each feature contributes to the target attribute"
   ]
  },
  {
   "cell_type": "code",
   "execution_count": 63,
   "metadata": {},
   "outputs": [],
   "source": [
    "# initializing the standard scalar\n",
    "scaler=StandardScaler()"
   ]
  },
  {
   "cell_type": "code",
   "execution_count": 65,
   "metadata": {},
   "outputs": [
    {
     "name": "stderr",
     "output_type": "stream",
     "text": [
      "/Users/sankalpsingh/Vicky/Softwares/Anaconda/anaconda3/lib/python3.7/site-packages/ipykernel_launcher.py:11: SettingWithCopyWarning: \n",
      "A value is trying to be set on a copy of a slice from a DataFrame.\n",
      "Try using .loc[row_indexer,col_indexer] = value instead\n",
      "\n",
      "See the caveats in the documentation: https://pandas.pydata.org/pandas-docs/stable/user_guide/indexing.html#returning-a-view-versus-a-copy\n",
      "  # This is added back by InteractiveShellApp.init_path()\n",
      "/Users/sankalpsingh/Vicky/Softwares/Anaconda/anaconda3/lib/python3.7/site-packages/pandas/core/indexing.py:965: SettingWithCopyWarning: \n",
      "A value is trying to be set on a copy of a slice from a DataFrame.\n",
      "Try using .loc[row_indexer,col_indexer] = value instead\n",
      "\n",
      "See the caveats in the documentation: https://pandas.pydata.org/pandas-docs/stable/user_guide/indexing.html#returning-a-view-versus-a-copy\n",
      "  self.obj[item] = s\n"
     ]
    }
   ],
   "source": [
    "# scaling features in train set\n",
    "X_train[['class_of_admission', 'country_of_citizenship', 'employer_city', 'employer_name', \n",
    "         'employer_postal_code', 'employer_state', 'pw_amount_9089', 'pw_level_9089', \n",
    "         'pw_soc_code', 'pw_soc_title', 'pw_source_name_9089', 'pw_unit_of_pay_9089', \n",
    "         'casenumber', 'year']] = scaler.fit_transform(X_train[['class_of_admission', 'country_of_citizenship', \n",
    "                                                                'employer_city', 'employer_name', \n",
    "                                                                'employer_postal_code', 'employer_state', \n",
    "                                                                'pw_amount_9089', 'pw_level_9089', \n",
    "                                                                'pw_soc_code', 'pw_soc_title', \n",
    "                                                                'pw_source_name_9089', \n",
    "                                                                'pw_unit_of_pay_9089', \n",
    "                                                                'casenumber', 'year']])"
   ]
  },
  {
   "cell_type": "code",
   "execution_count": 66,
   "metadata": {},
   "outputs": [
    {
     "name": "stderr",
     "output_type": "stream",
     "text": [
      "/Users/sankalpsingh/Vicky/Softwares/Anaconda/anaconda3/lib/python3.7/site-packages/ipykernel_launcher.py:11: SettingWithCopyWarning: \n",
      "A value is trying to be set on a copy of a slice from a DataFrame.\n",
      "Try using .loc[row_indexer,col_indexer] = value instead\n",
      "\n",
      "See the caveats in the documentation: https://pandas.pydata.org/pandas-docs/stable/user_guide/indexing.html#returning-a-view-versus-a-copy\n",
      "  # This is added back by InteractiveShellApp.init_path()\n",
      "/Users/sankalpsingh/Vicky/Softwares/Anaconda/anaconda3/lib/python3.7/site-packages/pandas/core/indexing.py:965: SettingWithCopyWarning: \n",
      "A value is trying to be set on a copy of a slice from a DataFrame.\n",
      "Try using .loc[row_indexer,col_indexer] = value instead\n",
      "\n",
      "See the caveats in the documentation: https://pandas.pydata.org/pandas-docs/stable/user_guide/indexing.html#returning-a-view-versus-a-copy\n",
      "  self.obj[item] = s\n"
     ]
    }
   ],
   "source": [
    "# scaling features in test set\n",
    "X_test[['class_of_admission', 'country_of_citizenship', 'employer_city', 'employer_name', \n",
    "         'employer_postal_code', 'employer_state', 'pw_amount_9089', 'pw_level_9089', \n",
    "         'pw_soc_code', 'pw_soc_title', 'pw_source_name_9089', 'pw_unit_of_pay_9089', \n",
    "         'casenumber', 'year']] = scaler.fit_transform(X_test[['class_of_admission', 'country_of_citizenship', \n",
    "                                                                'employer_city', 'employer_name', \n",
    "                                                                'employer_postal_code', 'employer_state', \n",
    "                                                                'pw_amount_9089', 'pw_level_9089', \n",
    "                                                                'pw_soc_code', 'pw_soc_title', \n",
    "                                                                'pw_source_name_9089', \n",
    "                                                                'pw_unit_of_pay_9089', \n",
    "                                                                'casenumber', 'year']])"
   ]
  },
  {
   "cell_type": "code",
   "execution_count": 67,
   "metadata": {},
   "outputs": [
    {
     "data": {
      "text/plain": [
       "0    7540\n",
       "1    7460\n",
       "Name: case_status, dtype: int64"
      ]
     },
     "execution_count": 67,
     "metadata": {},
     "output_type": "execute_result"
    }
   ],
   "source": [
    "# check value count for output binary labels present in test set\n",
    "y_test.value_counts()"
   ]
  },
  {
   "cell_type": "markdown",
   "metadata": {},
   "source": [
    "#### ROC function - generic AUC-ROC function which will help us generate the Area Under the Receiver Operating Characteristic curve for all the models that can predict the probability of the target class labels"
   ]
  },
  {
   "cell_type": "code",
   "execution_count": 68,
   "metadata": {},
   "outputs": [],
   "source": [
    "# define ROC AUC curve function\n",
    "def ROC_AUC_curve(model,model_name=\"Model\"):\n",
    "    # generate a no skill prediction (majority class)\n",
    "    ns_probs = [0 for _ in range(len(y_test))]\n",
    "\n",
    "    # predict probabilities\n",
    "    lr_probs = model.predict_proba(X_test)\n",
    "    # keep probabilities for the positive outcome only\n",
    "    lr_probs = lr_probs[:, 1]\n",
    "    # calculate scores\n",
    "    ns_auc = roc_auc_score(y_test, ns_probs)\n",
    "    lr_auc = roc_auc_score(y_test, lr_probs)\n",
    "    # summarize scores\n",
    "    print('No Skill: ROC AUC=%.3f' % (ns_auc))\n",
    "    print('Model: ROC AUC=%.3f' % (lr_auc))\n",
    "    # calculate roc curves\n",
    "    ns_fpr, ns_tpr, _ = roc_curve(y_test, ns_probs)\n",
    "    lr_fpr, lr_tpr, _ = roc_curve(y_test, lr_probs)\n",
    "    # plot the roc curve for the model\n",
    "    plt.figure(figsize=(8,4))\n",
    "    plt.plot(ns_fpr, ns_tpr, linestyle='--', label='No Skill')\n",
    "    plt.plot(lr_fpr, lr_tpr, marker='.', label=model_name)\n",
    "    # axis labels\n",
    "    plt.xlabel('False Positive Rate')\n",
    "    plt.ylabel('True Positive Rate')\n",
    "    # show the legend\n",
    "    plt.legend()\n",
    "    # show the plot\n",
    "    plt.show()"
   ]
  },
  {
   "cell_type": "markdown",
   "metadata": {},
   "source": [
    "#### ROC function - generic AUC-ROC upgraded function which will help us generate the Area Under the Receiver Operating Characteristic curve for ANN models that can predict the probability of the target class labels"
   ]
  },
  {
   "cell_type": "code",
   "execution_count": 69,
   "metadata": {},
   "outputs": [],
   "source": [
    "# Function to plot ROC_AUC_curve\n",
    "\n",
    "def ROC_AUC_curve_upgraded(model,model_name=\"Model\"):\n",
    "    # generate a no skill prediction (majority class)\n",
    "    ns_probs = [0 for _ in range(len(y_test))]\n",
    "\n",
    "    # predict probabilities\n",
    "    lr_probs = model.predict_proba(X_test)\n",
    "    # keep probabilities for the positive outcome only\n",
    "    lr_probs = lr_probs\n",
    "    # calculate scores\n",
    "    ns_auc = roc_auc_score(y_test, ns_probs)\n",
    "    lr_auc = roc_auc_score(y_test, lr_probs)\n",
    "    # summarize scores\n",
    "    print('No Skill: ROC AUC=%.3f' % (ns_auc))\n",
    "    print('Decision Tree: ROC AUC=%.3f' % (lr_auc))\n",
    "    # calculate roc curves\n",
    "    ns_fpr, ns_tpr, _ = roc_curve(y_test, ns_probs)\n",
    "    lr_fpr, lr_tpr, _ = roc_curve(y_test, lr_probs)\n",
    "    # plot the roc curve for the model\n",
    "    plt.figure(figsize=(8,4))\n",
    "    plt.plot(ns_fpr, ns_tpr, linestyle='--', label='No Skill')\n",
    "    plt.plot(lr_fpr, lr_tpr, marker='.', label=model_name)\n",
    "    # axis labels\n",
    "    plt.xlabel('False Positive Rate')\n",
    "    plt.ylabel('True Positive Rate')\n",
    "    # show the legend\n",
    "    plt.legend()\n",
    "    # show the plot\n",
    "    plt.show()"
   ]
  },
  {
   "cell_type": "markdown",
   "metadata": {},
   "source": [
    "### Logistic Regression\n",
    "\n",
    "- We have implemented the Logistic Regression classifier model here\n",
    "\n",
    "- We have used a 3 folds cross validation grid search to perform the hyper-parameter tuning \n",
    "\n",
    "- After this, we have printed the classification report for our model on training data and testing data in order to get a sense of how well our model is performing in terms of precision, recall, f1-score and accuracy and to see if our model is overfitting on the training data\n",
    "\n",
    "- We have also generated an AUC-ROC curve for the Logistic Regression model"
   ]
  },
  {
   "cell_type": "code",
   "execution_count": 163,
   "metadata": {},
   "outputs": [],
   "source": [
    "# initializing the LR model\n",
    "lr=LogisticRegression(random_state=16,solver=\"liblinear\")"
   ]
  },
  {
   "cell_type": "markdown",
   "metadata": {},
   "source": [
    "#### Hyper-paramater tuning using GridSearch:\n",
    "\n",
    "- C: This is the cost parameter. It is the inverse of the lambda. Smaller value specify more regularization\n",
    "\n",
    "- Penalty: The types of penalty that can be used are l1 and l2. The l1 penalty has the characteristics of eliminating features by making its co-efficient 0. The l2 penalty does not eliminate features but it penalizes the effect of less useful features and makes their co-efficient close to 0"
   ]
  },
  {
   "cell_type": "code",
   "execution_count": 164,
   "metadata": {},
   "outputs": [],
   "source": [
    "# Performing grid search to find the best hyper-parameters\n",
    "param_grid_lr = {\n",
    "              'C': [.001,.005,.01,0.1,0.3,0.5,1,3,5,10],\n",
    "              'penalty': ['l1', 'l2']\n",
    "              }"
   ]
  },
  {
   "cell_type": "code",
   "execution_count": 181,
   "metadata": {},
   "outputs": [],
   "source": [
    "# Using 3 fold cross validation and evaluation metric as Recall\n",
    "grid_lr = GridSearchCV(lr, param_grid_lr, scoring='recall', cv=3, n_jobs=-1, verbose=1)"
   ]
  },
  {
   "cell_type": "code",
   "execution_count": 182,
   "metadata": {},
   "outputs": [
    {
     "name": "stdout",
     "output_type": "stream",
     "text": [
      "Fitting 3 folds for each of 20 candidates, totalling 60 fits\n"
     ]
    },
    {
     "name": "stderr",
     "output_type": "stream",
     "text": [
      "[Parallel(n_jobs=-1)]: Using backend LokyBackend with 4 concurrent workers.\n",
      "[Parallel(n_jobs=-1)]: Done  60 out of  60 | elapsed:    2.0s finished\n"
     ]
    }
   ],
   "source": [
    "# Fitting LR model\n",
    "lr_model = grid_lr.fit(X_train, y_train)"
   ]
  },
  {
   "cell_type": "code",
   "execution_count": 183,
   "metadata": {},
   "outputs": [
    {
     "name": "stdout",
     "output_type": "stream",
     "text": [
      "{'C': 0.005, 'penalty': 'l1'}\n"
     ]
    }
   ],
   "source": [
    "# printing best hyper-parameters for model\n",
    "lr_best_params = grid_lr.best_params_\n",
    "print(lr_best_params)"
   ]
  },
  {
   "cell_type": "code",
   "execution_count": 184,
   "metadata": {},
   "outputs": [
    {
     "name": "stdout",
     "output_type": "stream",
     "text": [
      "              precision    recall  f1-score   support\n",
      "\n",
      "           0       0.61      0.67      0.63     15920\n",
      "           1       0.70      0.64      0.67     19080\n",
      "\n",
      "    accuracy                           0.65     35000\n",
      "   macro avg       0.65      0.65      0.65     35000\n",
      "weighted avg       0.66      0.65      0.65     35000\n",
      "\n"
     ]
    }
   ],
   "source": [
    "# Printing classification report for predictions made by model on training dataset\n",
    "print(classification_report(lr_model.predict(X_train),y_train))"
   ]
  },
  {
   "cell_type": "code",
   "execution_count": 185,
   "metadata": {},
   "outputs": [
    {
     "name": "stdout",
     "output_type": "stream",
     "text": [
      "              precision    recall  f1-score   support\n",
      "\n",
      "           0       0.62      0.68      0.65      6875\n",
      "           1       0.70      0.64      0.67      8125\n",
      "\n",
      "    accuracy                           0.66     15000\n",
      "   macro avg       0.66      0.66      0.66     15000\n",
      "weighted avg       0.66      0.66      0.66     15000\n",
      "\n"
     ]
    }
   ],
   "source": [
    "# Printing classification report for predictions made by model on validation dataset\n",
    "print(classification_report(lr_model.predict(X_test),y_test))"
   ]
  },
  {
   "cell_type": "markdown",
   "metadata": {},
   "source": [
    "#### Generating the AUC-ROC curve for the LR model\n",
    "\n",
    "- The AUC-ROC score that we get from the graph that we have plotted below tells us that our model is able to distinguish between the visa applications, if they will be certified or denied, 71.3% of the time\n",
    "\n",
    "- The score is above 50% which means that the model is not just randomly predicting the probability of an application being certified or denied"
   ]
  },
  {
   "cell_type": "code",
   "execution_count": 186,
   "metadata": {},
   "outputs": [
    {
     "name": "stdout",
     "output_type": "stream",
     "text": [
      "No Skill: ROC AUC=0.500\n",
      "Model: ROC AUC=0.713\n"
     ]
    },
    {
     "data": {
      "image/png": "[encoded data removed]",
      "text/plain": [
       "<Figure size 576x288 with 1 Axes>"
      ]
     },
     "metadata": {
      "needs_background": "light"
     },
     "output_type": "display_data"
    }
   ],
   "source": [
    "# plot AUC curve \n",
    "ROC_AUC_curve(model=lr_model,model_name=\"Logistic Regression\")"
   ]
  },
  {
   "cell_type": "markdown",
   "metadata": {},
   "source": [
    "#### Coefficients for Logistic Regression Model\n",
    "\n",
    "- As we have used the l1 regularization paramater, we can see that the coefficient for the features 'employer_city' and 'employer_name' has been reduced to zero as part of the l1 penalty\n",
    "\n",
    "- We can also conclude that 'year' has the highest coefficient indicating that 'year' increases the odds of visa application being certified the most\n",
    "\n",
    "- Similarly, we can conclude that 'pw_soc_code' - increases the odds of visa application being certified the least"
   ]
  },
  {
   "cell_type": "code",
   "execution_count": 187,
   "metadata": {},
   "outputs": [],
   "source": [
    "# printing the coefficients of LR model\n",
    "lr_coefficients=OrderedDict(sorted(zip(X.columns,grid_lr.best_estimator_.coef_[0]),reverse=True,key=lambda x:x[1]))"
   ]
  },
  {
   "cell_type": "code",
   "execution_count": 188,
   "metadata": {},
   "outputs": [
    {
     "data": {
      "text/plain": [
       "year                      0.429875\n",
       "class_of_admission        0.147939\n",
       "pw_source_name_9089       0.104850\n",
       "pw_level_9089             0.090312\n",
       "pw_unit_of_pay_9089       0.089560\n",
       "employer_postal_code      0.072024\n",
       "pw_soc_title              0.058956\n",
       "employer_state            0.016985\n",
       "employer_city             0.000000\n",
       "employer_name             0.000000\n",
       "pw_amount_9089           -0.051503\n",
       "casenumber               -0.057635\n",
       "country_of_citizenship   -0.059847\n",
       "pw_soc_code              -0.527533\n",
       "dtype: float64"
      ]
     },
     "execution_count": 188,
     "metadata": {},
     "output_type": "execute_result"
    }
   ],
   "source": [
    "# printing the coefficients \n",
    "pd.Series(lr_coefficients)"
   ]
  },
  {
   "cell_type": "markdown",
   "metadata": {},
   "source": [
    "### Random Forest\n",
    "\n",
    "- We have implemented the Random Forest Claasifier model here\n",
    "\n",
    "- We have used a 3 folds cross validation grid search to perform the hyper parameter tuning \n",
    "\n",
    "- After this, we have printed the classification report for our model on training data and testing data in order to get a sense of how well our model is performing in terms of precision, recall, f1-score and accuracy\n",
    "\n",
    "- We have also generated an AUC-ROC curve for RF model"
   ]
  },
  {
   "cell_type": "code",
   "execution_count": 69,
   "metadata": {},
   "outputs": [],
   "source": [
    "# initializing the RF model\n",
    "rf=RandomForestClassifier(random_state=16,n_jobs=-1,n_estimators=100)"
   ]
  },
  {
   "cell_type": "markdown",
   "metadata": {},
   "source": [
    "#### Hyper-paramater tuning using GridSearch:\n",
    "\n",
    "- max_depth: This is the maximum depth till which the tree will keep on splitting. It ensures that the tree does not overfit the data\n",
    "\n",
    "- max_features: The max_features is the number of features that will be used for making a single tree. For eg using \"sqrt\", the tree uses the square root of the number of total features in the data. Using auto is the same as making use of sqrt. The other values can be specified using the int(number of features to be used less than the total features), log, and a proportion of the features to be used\n",
    "\n",
    "- min_samples_leaf: The minimum number of samples that should be there in leaf node. If the number is less, then the leaf node is pruned\n",
    "\n",
    "- min_samples_split: The number of samples that should be present in the node for it to be split further\n",
    "\n",
    "- n_estimators:This is an important tuning parameter for the Random Forest model. It is the number of trees to be used for predicting the result\n",
    "\n",
    "- n_jobs: This is a hyper-parameter used for the Grid search. n_jobs=-1 means that the computation will be dispatched on all the CPUs of the computer"
   ]
  },
  {
   "cell_type": "code",
   "execution_count": 70,
   "metadata": {},
   "outputs": [],
   "source": [
    "# Performing grid search to find the best hyper-parameters\n",
    "param_grid_rf = {'max_depth': [1,25,10, 20, 100],\n",
    "            'max_features': ['auto', 'sqrt'],\n",
    "            'min_samples_leaf': [10,30,50,100],\n",
    "             'min_samples_split': [10,50,100,200],\n",
    "             'n_estimators': [25,50,100,200]}"
   ]
  },
  {
   "cell_type": "code",
   "execution_count": 71,
   "metadata": {},
   "outputs": [],
   "source": [
    "# Using 3 fold cross validation and evaluation metric as Recall\n",
    "grid_rf= GridSearchCV(rf, param_grid_rf, cv=3, scoring='recall', n_jobs=-1, verbose=1)"
   ]
  },
  {
   "cell_type": "code",
   "execution_count": 72,
   "metadata": {},
   "outputs": [
    {
     "name": "stdout",
     "output_type": "stream",
     "text": [
      "Fitting 3 folds for each of 640 candidates, totalling 1920 fits\n"
     ]
    },
    {
     "name": "stderr",
     "output_type": "stream",
     "text": [
      "[Parallel(n_jobs=-1)]: Using backend LokyBackend with 4 concurrent workers.\n",
      "[Parallel(n_jobs=-1)]: Done  42 tasks      | elapsed:   17.4s\n",
      "[Parallel(n_jobs=-1)]: Done 192 tasks      | elapsed:  1.1min\n",
      "[Parallel(n_jobs=-1)]: Done 442 tasks      | elapsed:  3.3min\n",
      "[Parallel(n_jobs=-1)]: Done 792 tasks      | elapsed:  8.8min\n",
      "[Parallel(n_jobs=-1)]: Done 1242 tasks      | elapsed: 15.7min\n",
      "[Parallel(n_jobs=-1)]: Done 1792 tasks      | elapsed: 25.5min\n",
      "[Parallel(n_jobs=-1)]: Done 1920 out of 1920 | elapsed: 27.6min finished\n"
     ]
    }
   ],
   "source": [
    "# Fitting RF model\n",
    "rf_model = grid_rf.fit(X_train, y_train)"
   ]
  },
  {
   "cell_type": "code",
   "execution_count": 73,
   "metadata": {},
   "outputs": [
    {
     "name": "stdout",
     "output_type": "stream",
     "text": [
      "{'max_depth': 100, 'max_features': 'auto', 'min_samples_leaf': 10, 'min_samples_split': 10, 'n_estimators': 200}\n"
     ]
    }
   ],
   "source": [
    "# printing the best hyper-parameters\n",
    "rf_model_best_params = grid_rf.best_params_\n",
    "print(rf_model_best_params)"
   ]
  },
  {
   "cell_type": "code",
   "execution_count": 74,
   "metadata": {},
   "outputs": [
    {
     "name": "stdout",
     "output_type": "stream",
     "text": [
      "              precision    recall  f1-score   support\n",
      "\n",
      "           0       0.83      0.89      0.86     16297\n",
      "           1       0.90      0.84      0.87     18703\n",
      "\n",
      "    accuracy                           0.87     35000\n",
      "   macro avg       0.87      0.87      0.87     35000\n",
      "weighted avg       0.87      0.87      0.87     35000\n",
      "\n"
     ]
    }
   ],
   "source": [
    "# Printing classification report for predictions made by model on training dataset\n",
    "print(classification_report(rf_model.predict(X_train),y_train))"
   ]
  },
  {
   "cell_type": "code",
   "execution_count": 75,
   "metadata": {},
   "outputs": [
    {
     "name": "stdout",
     "output_type": "stream",
     "text": [
      "              precision    recall  f1-score   support\n",
      "\n",
      "           0       0.77      0.83      0.79      6987\n",
      "           1       0.84      0.78      0.81      8013\n",
      "\n",
      "    accuracy                           0.80     15000\n",
      "   macro avg       0.80      0.80      0.80     15000\n",
      "weighted avg       0.80      0.80      0.80     15000\n",
      "\n"
     ]
    }
   ],
   "source": [
    "# Printing classification report for predictions made by model on validation dataset\n",
    "print(classification_report(rf_model.predict(X_test),y_test))"
   ]
  },
  {
   "cell_type": "markdown",
   "metadata": {},
   "source": [
    "#### Generating the AUC-ROC curve for the RF model\n",
    "- The AUC-ROC score that we get from the graph that we have plotted below tells us that our model is able to distinguish between the visa applications, if they will be certified or denied, 88.8% of the time.\n",
    "\n",
    "- The score is above 50% which means that the model is not just randomly predicting the probability of an application being certified or denied"
   ]
  },
  {
   "cell_type": "code",
   "execution_count": 76,
   "metadata": {},
   "outputs": [
    {
     "name": "stdout",
     "output_type": "stream",
     "text": [
      "No Skill: ROC AUC=0.500\n",
      "Model: ROC AUC=0.888\n"
     ]
    },
    {
     "data": {
      "image/png": "[encoded data removed]",
      "text/plain": [
       "<Figure size 576x288 with 1 Axes>"
      ]
     },
     "metadata": {
      "needs_background": "light"
     },
     "output_type": "display_data"
    }
   ],
   "source": [
    "# ROC curve for RF model\n",
    "ROC_AUC_curve(model=rf_model,model_name=\"RF\")"
   ]
  },
  {
   "cell_type": "markdown",
   "metadata": {},
   "source": [
    "#### Feature Importance plot for RF"
   ]
  },
  {
   "cell_type": "code",
   "execution_count": 78,
   "metadata": {},
   "outputs": [
    {
     "data": {
      "text/html": [
       "<div>\n",
       "<style scoped>\n",
       "    .dataframe tbody tr th:only-of-type {\n",
       "        vertical-align: middle;\n",
       "    }\n",
       "\n",
       "    .dataframe tbody tr th {\n",
       "        vertical-align: top;\n",
       "    }\n",
       "\n",
       "    .dataframe thead th {\n",
       "        text-align: right;\n",
       "    }\n",
       "</style>\n",
       "<table border=\"1\" class=\"dataframe\">\n",
       "  <thead>\n",
       "    <tr style=\"text-align: right;\">\n",
       "      <th></th>\n",
       "      <th>importance</th>\n",
       "      <th>features</th>\n",
       "    </tr>\n",
       "  </thead>\n",
       "  <tbody>\n",
       "    <tr>\n",
       "      <th>casenumber</th>\n",
       "      <td>0.254337</td>\n",
       "      <td>casenumber</td>\n",
       "    </tr>\n",
       "    <tr>\n",
       "      <th>pw_soc_code</th>\n",
       "      <td>0.176068</td>\n",
       "      <td>pw_soc_code</td>\n",
       "    </tr>\n",
       "    <tr>\n",
       "      <th>pw_amount_9089</th>\n",
       "      <td>0.107932</td>\n",
       "      <td>pw_amount_9089</td>\n",
       "    </tr>\n",
       "    <tr>\n",
       "      <th>year</th>\n",
       "      <td>0.099412</td>\n",
       "      <td>year</td>\n",
       "    </tr>\n",
       "    <tr>\n",
       "      <th>employer_postal_code</th>\n",
       "      <td>0.061887</td>\n",
       "      <td>employer_postal_code</td>\n",
       "    </tr>\n",
       "    <tr>\n",
       "      <th>employer_name</th>\n",
       "      <td>0.048428</td>\n",
       "      <td>employer_name</td>\n",
       "    </tr>\n",
       "    <tr>\n",
       "      <th>employer_city</th>\n",
       "      <td>0.046293</td>\n",
       "      <td>employer_city</td>\n",
       "    </tr>\n",
       "    <tr>\n",
       "      <th>pw_soc_title</th>\n",
       "      <td>0.045736</td>\n",
       "      <td>pw_soc_title</td>\n",
       "    </tr>\n",
       "    <tr>\n",
       "      <th>pw_unit_of_pay_9089</th>\n",
       "      <td>0.043623</td>\n",
       "      <td>pw_unit_of_pay_9089</td>\n",
       "    </tr>\n",
       "    <tr>\n",
       "      <th>employer_state</th>\n",
       "      <td>0.035698</td>\n",
       "      <td>employer_state</td>\n",
       "    </tr>\n",
       "    <tr>\n",
       "      <th>country_of_citizenship</th>\n",
       "      <td>0.034247</td>\n",
       "      <td>country_of_citizenship</td>\n",
       "    </tr>\n",
       "    <tr>\n",
       "      <th>class_of_admission</th>\n",
       "      <td>0.023145</td>\n",
       "      <td>class_of_admission</td>\n",
       "    </tr>\n",
       "    <tr>\n",
       "      <th>pw_level_9089</th>\n",
       "      <td>0.017986</td>\n",
       "      <td>pw_level_9089</td>\n",
       "    </tr>\n",
       "    <tr>\n",
       "      <th>pw_source_name_9089</th>\n",
       "      <td>0.005208</td>\n",
       "      <td>pw_source_name_9089</td>\n",
       "    </tr>\n",
       "  </tbody>\n",
       "</table>\n",
       "</div>"
      ],
      "text/plain": [
       "                        importance                features\n",
       "casenumber                0.254337              casenumber\n",
       "pw_soc_code               0.176068             pw_soc_code\n",
       "pw_amount_9089            0.107932          pw_amount_9089\n",
       "year                      0.099412                    year\n",
       "employer_postal_code      0.061887    employer_postal_code\n",
       "employer_name             0.048428           employer_name\n",
       "employer_city             0.046293           employer_city\n",
       "pw_soc_title              0.045736            pw_soc_title\n",
       "pw_unit_of_pay_9089       0.043623     pw_unit_of_pay_9089\n",
       "employer_state            0.035698          employer_state\n",
       "country_of_citizenship    0.034247  country_of_citizenship\n",
       "class_of_admission        0.023145      class_of_admission\n",
       "pw_level_9089             0.017986           pw_level_9089\n",
       "pw_source_name_9089       0.005208     pw_source_name_9089"
      ]
     },
     "execution_count": 78,
     "metadata": {},
     "output_type": "execute_result"
    }
   ],
   "source": [
    "# creating a new dataframe to store the features and their respective importance values\n",
    "feature_imp = pd.DataFrame(rf_model.best_estimator_.feature_importances_, index=X_train.columns,\n",
    "columns=['importance']).sort_values('importance', ascending=False)\n",
    "feature_imp['features'] = feature_imp.index\n",
    "feature_imp"
   ]
  },
  {
   "cell_type": "markdown",
   "metadata": {},
   "source": [
    "#### Below feature importance plot shows that the top 5 features that are most helpful in predicting the visa application decisions for our dataset are:\n",
    "\n",
    "1) casenumber\n",
    "\n",
    "2) pw_soc_code\n",
    "\n",
    "3) pw_amount_9089\n",
    "\n",
    "4) year\n",
    "\n",
    "5) employer_postal_code"
   ]
  },
  {
   "cell_type": "code",
   "execution_count": 79,
   "metadata": {},
   "outputs": [
    {
     "data": {
      "text/plain": [
       "Text(0, 0.5, 'FEATURE NAMES')"
      ]
     },
     "execution_count": 79,
     "metadata": {},
     "output_type": "execute_result"
    },
    {
     "data": {
      "image/png": "[encoded data removed]",
      "text/plain": [
       "<Figure size 720x576 with 1 Axes>"
      ]
     },
     "metadata": {
      "needs_background": "light"
     },
     "output_type": "display_data"
    }
   ],
   "source": [
    "# Plotting Feature Importance graph\n",
    "plt.figure(figsize=(10,8))\n",
    "\n",
    "sns.barplot(x=feature_imp['importance'], y=feature_imp['features'])\n",
    "\n",
    "plt.title('FEATURE IMPORTANCE RF')\n",
    "plt.xlabel('FEATURE IMPORTANCE')\n",
    "plt.ylabel('FEATURE NAMES')"
   ]
  },
  {
   "cell_type": "markdown",
   "metadata": {},
   "source": [
    "#### Saving the model using pickle library"
   ]
  },
  {
   "cell_type": "code",
   "execution_count": 80,
   "metadata": {},
   "outputs": [],
   "source": [
    "# Save the trained model as a pickle string. \n",
    "saved_rf_model = pickle.dumps(rf_model) \n",
    "  \n",
    "# Load the pickled model \n",
    "rf_from_pickle = pickle.loads(saved_rf_model) "
   ]
  },
  {
   "cell_type": "markdown",
   "metadata": {},
   "source": [
    "### Gradient Boosting Machine\n",
    "\n",
    "- We have implemented the Gradient Boosting Machine Claasifier model here\n",
    "\n",
    "- We have used a 3 folds cross validation grid search to perform the hyper parameter tuning \n",
    "\n",
    "- After this, we have printed the classification report for our model on training and testing data in order to get a sense of how well our model is performing in terms of precision, recall, f1-score and accuracy\n",
    "\n",
    "- We have also generated an AUC-ROC curve for GBM model"
   ]
  },
  {
   "cell_type": "code",
   "execution_count": 217,
   "metadata": {},
   "outputs": [],
   "source": [
    "# initializing the GBM model\n",
    "gbm=GradientBoostingClassifier(random_state=16)"
   ]
  },
  {
   "cell_type": "markdown",
   "metadata": {},
   "source": [
    "#### Hyper-paramater tuning using GridSearch:\n",
    "\n",
    "- max_features: The max_features is the number of features that will be used for making a single tree. For eg using \"sqrt\", the tree uses the square root of the number of total features in the data. Using auto is the same as making use of sqrt. The other values can be specified using the int(number of features to be used less than the total features), log, and a proportion of the features to be used\n",
    "\n",
    "- n_estimators:This is an important tuning parameter for the Gradient Boost model. It is the number of trees to be used for predicting the result\n",
    "\n",
    "- subsample: The proportion of sample to be used for training individual base learner\n",
    "\n",
    "- max_depth: This is the maximum depth till which the tree will keep on splitting. It ensures that the tree does not overfit the data\n",
    "\n",
    "- min_samples_split: The number of samples that should be present in the node for it to be split further\n",
    "\n",
    "- min_samples_leaf: The minimum number of samples that should be there in leaf node. If the number is less, then the leaf node is pruned\n",
    "\n",
    "- n_jobs: This is a hyper-parameter used for the Grid search. n_jobs=-1 means that the computation will be dispatched on all the CPUs of the computer"
   ]
  },
  {
   "cell_type": "code",
   "execution_count": 218,
   "metadata": {},
   "outputs": [],
   "source": [
    "# Performing grid search to find the best hyper-parameters\n",
    "param_grid_gbm = {'max_features': ['auto','sqrt'],\n",
    "              'n_estimators': [20,50,100,200],\n",
    "              'subsample':[0.6,0.8,0.9],\n",
    "              'max_depth': [1,5,20,10,50,100],\n",
    "              'min_samples_split':[25,50,100,200],\n",
    "              'min_samples_leaf':[10,30,50,100]}"
   ]
  },
  {
   "cell_type": "code",
   "execution_count": 221,
   "metadata": {},
   "outputs": [],
   "source": [
    "# Using 3 fold cross validation and evaluation metric as Recall\n",
    "grid_gbm= GridSearchCV(gbm, param_grid_gbm, cv=3, scoring='recall', n_jobs=-1, verbose=1)"
   ]
  },
  {
   "cell_type": "code",
   "execution_count": 222,
   "metadata": {},
   "outputs": [
    {
     "name": "stdout",
     "output_type": "stream",
     "text": [
      "Fitting 3 folds for each of 2304 candidates, totalling 6912 fits\n"
     ]
    },
    {
     "name": "stderr",
     "output_type": "stream",
     "text": [
      "[Parallel(n_jobs=-1)]: Using backend LokyBackend with 4 concurrent workers.\n",
      "[Parallel(n_jobs=-1)]: Done  42 tasks      | elapsed:   23.9s\n",
      "[Parallel(n_jobs=-1)]: Done 192 tasks      | elapsed:  1.7min\n",
      "[Parallel(n_jobs=-1)]: Done 442 tasks      | elapsed:  4.0min\n",
      "[Parallel(n_jobs=-1)]: Done 792 tasks      | elapsed:  6.2min\n",
      "[Parallel(n_jobs=-1)]: Done 1242 tasks      | elapsed: 10.5min\n",
      "[Parallel(n_jobs=-1)]: Done 1792 tasks      | elapsed: 27.6min\n",
      "[Parallel(n_jobs=-1)]: Done 2442 tasks      | elapsed: 48.1min\n",
      "[Parallel(n_jobs=-1)]: Done 3192 tasks      | elapsed: 100.1min\n",
      "[Parallel(n_jobs=-1)]: Done 4042 tasks      | elapsed: 143.6min\n",
      "[Parallel(n_jobs=-1)]: Done 4992 tasks      | elapsed: 210.5min\n",
      "[Parallel(n_jobs=-1)]: Done 6042 tasks      | elapsed: 303.7min\n",
      "[Parallel(n_jobs=-1)]: Done 6912 out of 6912 | elapsed: 363.9min finished\n"
     ]
    }
   ],
   "source": [
    "# Fitting GBM model\n",
    "gbm_model = grid_gbm.fit(X_train, y_train)"
   ]
  },
  {
   "cell_type": "code",
   "execution_count": 223,
   "metadata": {},
   "outputs": [
    {
     "name": "stdout",
     "output_type": "stream",
     "text": [
      "{'max_depth': 10, 'max_features': 'auto', 'min_samples_leaf': 10, 'min_samples_split': 25, 'n_estimators': 20, 'subsample': 0.9}\n"
     ]
    }
   ],
   "source": [
    "# printing the best hyper-parameters\n",
    "gbm_best_params = grid_gbm.best_params_\n",
    "print(gbm_best_params)"
   ]
  },
  {
   "cell_type": "code",
   "execution_count": 224,
   "metadata": {},
   "outputs": [
    {
     "name": "stdout",
     "output_type": "stream",
     "text": [
      "              precision    recall  f1-score   support\n",
      "\n",
      "           0       0.81      0.90      0.85     15717\n",
      "           1       0.91      0.83      0.87     19283\n",
      "\n",
      "    accuracy                           0.86     35000\n",
      "   macro avg       0.86      0.86      0.86     35000\n",
      "weighted avg       0.86      0.86      0.86     35000\n",
      "\n"
     ]
    }
   ],
   "source": [
    "# Printing classification report for predictions made by model on training dataset\n",
    "print(classification_report(gbm_model.predict(X_train),y_train))"
   ]
  },
  {
   "cell_type": "code",
   "execution_count": 225,
   "metadata": {},
   "outputs": [
    {
     "name": "stdout",
     "output_type": "stream",
     "text": [
      "              precision    recall  f1-score   support\n",
      "\n",
      "           0       0.75      0.83      0.79      6806\n",
      "           1       0.85      0.77      0.81      8194\n",
      "\n",
      "    accuracy                           0.80     15000\n",
      "   macro avg       0.80      0.80      0.80     15000\n",
      "weighted avg       0.81      0.80      0.80     15000\n",
      "\n"
     ]
    }
   ],
   "source": [
    "# Printing classification report for predictions made by model on validation dataset\n",
    "print(classification_report(gbm_model.predict(X_test),y_test))"
   ]
  },
  {
   "cell_type": "markdown",
   "metadata": {},
   "source": [
    "#### Saving the model using pickle library"
   ]
  },
  {
   "cell_type": "code",
   "execution_count": 226,
   "metadata": {},
   "outputs": [],
   "source": [
    "# Save the trained model as a pickle string. \n",
    "saved_gbm_model = pickle.dumps(gbm_model) \n",
    "  \n",
    "# Load the pickled model \n",
    "gbm_from_pickle = pickle.loads(saved_gbm_model) "
   ]
  },
  {
   "cell_type": "markdown",
   "metadata": {},
   "source": [
    "#### Generating the AUC-ROC curve for the GBM model\n",
    "- The AUC-ROC score that we get from the graph that we have plotted below tells us that our model is able to distinguish between the visa applications, if they will be certified or denied, 87.8% of the time\n",
    "\n",
    "- The score is above 50% which means that the model is not just randomly predicting the probability of an application being certified or denied"
   ]
  },
  {
   "cell_type": "code",
   "execution_count": 227,
   "metadata": {
    "scrolled": true
   },
   "outputs": [
    {
     "name": "stdout",
     "output_type": "stream",
     "text": [
      "No Skill: ROC AUC=0.500\n",
      "Model: ROC AUC=0.878\n"
     ]
    },
    {
     "data": {
      "image/png": "[encoded data removed]",
      "text/plain": [
       "<Figure size 576x288 with 1 Axes>"
      ]
     },
     "metadata": {
      "needs_background": "light"
     },
     "output_type": "display_data"
    }
   ],
   "source": [
    "# printing AUC curve for GBM model\n",
    "ROC_AUC_curve(model=gbm_model,model_name=\"GBM\")"
   ]
  },
  {
   "cell_type": "markdown",
   "metadata": {},
   "source": [
    "#### Feature Importance Plot for Gradient Boosting Machine Classifier"
   ]
  },
  {
   "cell_type": "code",
   "execution_count": 228,
   "metadata": {},
   "outputs": [
    {
     "data": {
      "text/html": [
       "<div>\n",
       "<style scoped>\n",
       "    .dataframe tbody tr th:only-of-type {\n",
       "        vertical-align: middle;\n",
       "    }\n",
       "\n",
       "    .dataframe tbody tr th {\n",
       "        vertical-align: top;\n",
       "    }\n",
       "\n",
       "    .dataframe thead th {\n",
       "        text-align: right;\n",
       "    }\n",
       "</style>\n",
       "<table border=\"1\" class=\"dataframe\">\n",
       "  <thead>\n",
       "    <tr style=\"text-align: right;\">\n",
       "      <th></th>\n",
       "      <th>importance</th>\n",
       "      <th>features</th>\n",
       "    </tr>\n",
       "  </thead>\n",
       "  <tbody>\n",
       "    <tr>\n",
       "      <th>casenumber</th>\n",
       "      <td>0.303305</td>\n",
       "      <td>casenumber</td>\n",
       "    </tr>\n",
       "    <tr>\n",
       "      <th>pw_soc_code</th>\n",
       "      <td>0.244863</td>\n",
       "      <td>pw_soc_code</td>\n",
       "    </tr>\n",
       "    <tr>\n",
       "      <th>year</th>\n",
       "      <td>0.096847</td>\n",
       "      <td>year</td>\n",
       "    </tr>\n",
       "    <tr>\n",
       "      <th>pw_amount_9089</th>\n",
       "      <td>0.072296</td>\n",
       "      <td>pw_amount_9089</td>\n",
       "    </tr>\n",
       "    <tr>\n",
       "      <th>pw_soc_title</th>\n",
       "      <td>0.059320</td>\n",
       "      <td>pw_soc_title</td>\n",
       "    </tr>\n",
       "    <tr>\n",
       "      <th>pw_unit_of_pay_9089</th>\n",
       "      <td>0.044764</td>\n",
       "      <td>pw_unit_of_pay_9089</td>\n",
       "    </tr>\n",
       "    <tr>\n",
       "      <th>employer_postal_code</th>\n",
       "      <td>0.040263</td>\n",
       "      <td>employer_postal_code</td>\n",
       "    </tr>\n",
       "    <tr>\n",
       "      <th>employer_city</th>\n",
       "      <td>0.036361</td>\n",
       "      <td>employer_city</td>\n",
       "    </tr>\n",
       "    <tr>\n",
       "      <th>employer_name</th>\n",
       "      <td>0.035969</td>\n",
       "      <td>employer_name</td>\n",
       "    </tr>\n",
       "    <tr>\n",
       "      <th>employer_state</th>\n",
       "      <td>0.020259</td>\n",
       "      <td>employer_state</td>\n",
       "    </tr>\n",
       "    <tr>\n",
       "      <th>country_of_citizenship</th>\n",
       "      <td>0.018392</td>\n",
       "      <td>country_of_citizenship</td>\n",
       "    </tr>\n",
       "    <tr>\n",
       "      <th>class_of_admission</th>\n",
       "      <td>0.015075</td>\n",
       "      <td>class_of_admission</td>\n",
       "    </tr>\n",
       "    <tr>\n",
       "      <th>pw_level_9089</th>\n",
       "      <td>0.009803</td>\n",
       "      <td>pw_level_9089</td>\n",
       "    </tr>\n",
       "    <tr>\n",
       "      <th>pw_source_name_9089</th>\n",
       "      <td>0.002482</td>\n",
       "      <td>pw_source_name_9089</td>\n",
       "    </tr>\n",
       "  </tbody>\n",
       "</table>\n",
       "</div>"
      ],
      "text/plain": [
       "                        importance                features\n",
       "casenumber                0.303305              casenumber\n",
       "pw_soc_code               0.244863             pw_soc_code\n",
       "year                      0.096847                    year\n",
       "pw_amount_9089            0.072296          pw_amount_9089\n",
       "pw_soc_title              0.059320            pw_soc_title\n",
       "pw_unit_of_pay_9089       0.044764     pw_unit_of_pay_9089\n",
       "employer_postal_code      0.040263    employer_postal_code\n",
       "employer_city             0.036361           employer_city\n",
       "employer_name             0.035969           employer_name\n",
       "employer_state            0.020259          employer_state\n",
       "country_of_citizenship    0.018392  country_of_citizenship\n",
       "class_of_admission        0.015075      class_of_admission\n",
       "pw_level_9089             0.009803           pw_level_9089\n",
       "pw_source_name_9089       0.002482     pw_source_name_9089"
      ]
     },
     "execution_count": 228,
     "metadata": {},
     "output_type": "execute_result"
    }
   ],
   "source": [
    "# creating a new dataframe to store the features and their respective importance values\n",
    "feature_imp = pd.DataFrame(gbm_model.best_estimator_.feature_importances_, index=X_train.columns,\n",
    "columns=['importance']).sort_values('importance', ascending=False)\n",
    "feature_imp['features'] = feature_imp.index\n",
    "feature_imp"
   ]
  },
  {
   "cell_type": "markdown",
   "metadata": {},
   "source": [
    "#### Below feature importance plot shows that the top 5 features that are most helpful in predicting the visa application decisions for our dataset are:\n",
    "\n",
    "1) casenumber\n",
    "\n",
    "2) pw_soc_code\n",
    "\n",
    "3) year\n",
    "\n",
    "4) pw_amount_9089\n",
    "\n",
    "5) pw_soc_title"
   ]
  },
  {
   "cell_type": "code",
   "execution_count": 229,
   "metadata": {},
   "outputs": [
    {
     "data": {
      "text/plain": [
       "Text(0, 0.5, 'FEATURE NAMES')"
      ]
     },
     "execution_count": 229,
     "metadata": {},
     "output_type": "execute_result"
    },
    {
     "data": {
      "image/png": "[encoded data removed]",
      "text/plain": [
       "<Figure size 720x576 with 1 Axes>"
      ]
     },
     "metadata": {
      "needs_background": "light"
     },
     "output_type": "display_data"
    }
   ],
   "source": [
    "# Plotting Feature Importance graph\n",
    "plt.figure(figsize=(10,8))\n",
    "\n",
    "sns.barplot(x=feature_imp['importance'], y=feature_imp['features'])\n",
    "\n",
    "plt.title('FEATURE IMPORTANCE GBM')\n",
    "plt.xlabel('FEATURE IMPORTANCE')\n",
    "plt.ylabel('FEATURE NAMES')"
   ]
  },
  {
   "cell_type": "markdown",
   "metadata": {},
   "source": [
    "### Linear SVM\n",
    "\n",
    "- We have implemented the Linear Support Vector Machine model here\n",
    "\n",
    "- We have used a 3 folds cross validation grid search to perform the hyper parameter tuning \n",
    "\n",
    "- After this, we have printed the classification report for our model on training and testing data in order to get a sense of how well our model is performing in terms of precision, recall, f1-score and accuracy\n",
    "\n",
    "- We have not generated an AUC-ROC curve as SVM model does not predict the probability of the target class labels"
   ]
  },
  {
   "cell_type": "code",
   "execution_count": 202,
   "metadata": {},
   "outputs": [],
   "source": [
    "# initializing the linear SVC model\n",
    "lsvm = LinearSVC(random_state=16)"
   ]
  },
  {
   "cell_type": "markdown",
   "metadata": {},
   "source": [
    "#### Hyper-paramater tuning using GridSearch:\n",
    "- C: This is the cost parameter. It is used for regularization and represents the penalty associated with misclassification. Higher C means lower bias but risk of overfitting. It also means higher complexity of decision boundary and higher number of support vectors. Similarly, lower C means higher bias but lower variance\n",
    "- penalty: This represents the penalty as l1 and l2 regularisation parameter. The l1 and l2 both penalize the points and make the models less susceptible to outliers and improve its overall generalization.\n",
    "- loss: Specifies the loss function. ‘hinge’ is the standard SVM loss (used e.g. by the SVC class) while ‘squared_hinge’ is the square of the hinge loss.\n",
    "- n_jobs: This is a hyper-parameter used for the Grid search. n_jobs=-1 means that the computation will be dispatched on all the CPUs of the computer"
   ]
  },
  {
   "cell_type": "code",
   "execution_count": 203,
   "metadata": {},
   "outputs": [],
   "source": [
    "# Performing grid search to find the best hyper-parameters\n",
    "param_grid_lsvm = { 'C':[.005,.01,.1,.2,.4,.8],\n",
    "              'penalty':['l1', 'l2'],\n",
    "              'loss': ['hinge', 'square_hinge']\n",
    "              }"
   ]
  },
  {
   "cell_type": "code",
   "execution_count": 204,
   "metadata": {},
   "outputs": [],
   "source": [
    "# Using 3 fold cross validation and evaluation metric as Recall\n",
    "grid_lsvm = GridSearchCV(lsvm, param_grid_lsvm, cv=3, scoring='recall', n_jobs=-1)"
   ]
  },
  {
   "cell_type": "code",
   "execution_count": 205,
   "metadata": {},
   "outputs": [],
   "source": [
    "# Fitting linear svc model\n",
    "lsvm_model = grid_lsvm.fit(X_train, y_train)"
   ]
  },
  {
   "cell_type": "code",
   "execution_count": 206,
   "metadata": {},
   "outputs": [
    {
     "name": "stdout",
     "output_type": "stream",
     "text": [
      "{'C': 0.005, 'loss': 'hinge', 'penalty': 'l2'}\n"
     ]
    }
   ],
   "source": [
    "# printing the best hyper-parameters\n",
    "lsvm_best_params = grid_lsvm.best_params_\n",
    "print(lsvm_best_params)"
   ]
  },
  {
   "cell_type": "code",
   "execution_count": 207,
   "metadata": {},
   "outputs": [
    {
     "name": "stdout",
     "output_type": "stream",
     "text": [
      "              precision    recall  f1-score   support\n",
      "\n",
      "           0       0.61      0.66      0.64     16009\n",
      "           1       0.69      0.64      0.67     18991\n",
      "\n",
      "    accuracy                           0.65     35000\n",
      "   macro avg       0.65      0.65      0.65     35000\n",
      "weighted avg       0.65      0.65      0.65     35000\n",
      "\n"
     ]
    }
   ],
   "source": [
    "# Printing classification report for predictions made by model on training dataset\n",
    "print(classification_report(lsvm_model.predict(X_train),y_train))"
   ]
  },
  {
   "cell_type": "code",
   "execution_count": 208,
   "metadata": {},
   "outputs": [
    {
     "name": "stdout",
     "output_type": "stream",
     "text": [
      "              precision    recall  f1-score   support\n",
      "\n",
      "           0       0.62      0.68      0.64      6860\n",
      "           1       0.70      0.64      0.67      8140\n",
      "\n",
      "    accuracy                           0.66     15000\n",
      "   macro avg       0.66      0.66      0.66     15000\n",
      "weighted avg       0.66      0.66      0.66     15000\n",
      "\n"
     ]
    }
   ],
   "source": [
    "# Printing classification report for predictions made by model on validation dataset\n",
    "print(classification_report(lsvm_model.predict(X_test),y_test))"
   ]
  },
  {
   "cell_type": "markdown",
   "metadata": {},
   "source": [
    "### ANN 1 Hidden layer\n",
    "\n",
    "- We have implemented the Artificial Neural Network model with 1 hidden layers here\n",
    "\n",
    "- The ANN1 model contains an initial sequential layer followed by the dense hidden layer using activation function as 'relu' and 20 nodes followed by dense output layer that uses 'sigmoid' as the activation function in order to predict the binary labels for output class.\n",
    "\n",
    "- The input shape is the total number of features present in the training data i.e. 14\n",
    "\n",
    "- The hidden layer contains 20 nodes of perceptrons\n",
    "\n",
    "- We have used the loss function as 'binary_crossentropy', optimizer as 'adam' and metrics as 'accuracy' to implement a deep learning network with 1 hidden layers\n",
    "\n",
    "- We have used epochs=10 and batch_size=20 for the hyperparameter tuning of the model and have calculated the loss and accuracy for both train and testing data for each epoch\n",
    "\n",
    "- After this, we have printed the classification report for our model on training data, validation data in order to get a sense of how well our model is performing in terms of precision, recall, f1-score and accuracy\n",
    "\n",
    "- We have generated an AUC-ROC curve as ANN1 model that predicts the probability of the target class labels"
   ]
  },
  {
   "cell_type": "code",
   "execution_count": 75,
   "metadata": {},
   "outputs": [],
   "source": [
    "# initializing the ANN1 model\n",
    "ann1 = Sequential()\n",
    "ann1.add(Dense(20, activation='relu', input_shape=(14,)))\n",
    "ann1.add(Dense(1, activation='sigmoid', input_shape=(20,)))"
   ]
  },
  {
   "cell_type": "markdown",
   "metadata": {},
   "source": [
    "#### Hyper-paramater tuning using GridSearch:\n",
    "- activation: 'relu' or rectified linear activation function is a piecewise linear function that will output the input directly if it is positive, otherwise, it will output zero. 'Relu' has been used for the hidden layer activation and 'sigmoid' function is used in the output layer as this is a binary classification problem\n",
    "- loss: We have used the loss function here as the 'binary_crossentropy' which is a popular loss function for Neural Networks when we are trying to predict a binary output class\n",
    "- optimizer: 'adam' optimizer has been used here. Adam optimization is a stochastic gradient descent method that is based on adaptive estimation of first-order and second-order moments\n",
    "- epochs: This parameter indicates the number of passes of the entire training dataset the neural network model has completed. We have used here 50 epochs to train our model\n",
    "- batch_size: The batch size is fed to the model for a single update to the weights. The batch_size can be any of the below three:\n",
    "                - Batch Gradient Descent. Batch Size = Size of Training Set\n",
    "                - Stochastic Gradient Descent. Batch Size = 1\n",
    "                - Mini-Batch Gradient Descent. 1 < Batch Size < Size of Training Set\n",
    "- Here we have used the mini batch size as 20"
   ]
  },
  {
   "cell_type": "code",
   "execution_count": 76,
   "metadata": {},
   "outputs": [],
   "source": [
    "# compiling ANN1 model\n",
    "ann1.compile(loss='binary_crossentropy', optimizer='adam', metrics=['accuracy'])"
   ]
  },
  {
   "cell_type": "code",
   "execution_count": 77,
   "metadata": {},
   "outputs": [
    {
     "name": "stdout",
     "output_type": "stream",
     "text": [
      "Train on 35000 samples, validate on 15000 samples\n",
      "Epoch 1/10\n",
      "35000/35000 [==============================] - 5s 147us/step - loss: 0.6339 - accuracy: 0.6377 - val_loss: 0.6144 - val_accuracy: 0.6621\n",
      "Epoch 2/10\n",
      "35000/35000 [==============================] - 5s 133us/step - loss: 0.6138 - accuracy: 0.6586 - val_loss: 0.6076 - val_accuracy: 0.6698\n",
      "Epoch 3/10\n",
      "35000/35000 [==============================] - 5s 138us/step - loss: 0.6081 - accuracy: 0.6654 - val_loss: 0.6033 - val_accuracy: 0.6733\n",
      "Epoch 4/10\n",
      "35000/35000 [==============================] - 5s 145us/step - loss: 0.6040 - accuracy: 0.6671 - val_loss: 0.6007 - val_accuracy: 0.6759\n",
      "Epoch 5/10\n",
      "35000/35000 [==============================] - 5s 135us/step - loss: 0.6009 - accuracy: 0.6704 - val_loss: 0.5984 - val_accuracy: 0.6787\n",
      "Epoch 6/10\n",
      "35000/35000 [==============================] - 5s 132us/step - loss: 0.5985 - accuracy: 0.6736 - val_loss: 0.5959 - val_accuracy: 0.6809\n",
      "Epoch 7/10\n",
      "35000/35000 [==============================] - 5s 132us/step - loss: 0.5963 - accuracy: 0.6749 - val_loss: 0.5949 - val_accuracy: 0.6800\n",
      "Epoch 8/10\n",
      "35000/35000 [==============================] - 5s 133us/step - loss: 0.5946 - accuracy: 0.6778 - val_loss: 0.5933 - val_accuracy: 0.6809\n",
      "Epoch 9/10\n",
      "35000/35000 [==============================] - 5s 133us/step - loss: 0.5929 - accuracy: 0.6792 - val_loss: 0.5916 - val_accuracy: 0.6846\n",
      "Epoch 10/10\n",
      "35000/35000 [==============================] - 5s 133us/step - loss: 0.5914 - accuracy: 0.6815 - val_loss: 0.5902 - val_accuracy: 0.6843\n"
     ]
    },
    {
     "data": {
      "text/plain": [
       "<keras.callbacks.callbacks.History at 0x7f85b250b990>"
      ]
     },
     "execution_count": 77,
     "metadata": {},
     "output_type": "execute_result"
    }
   ],
   "source": [
    "# fitting ANN1 model\n",
    "ann1.fit(X_train, y_train, epochs=10, batch_size=20, verbose=1,validation_data=(X_test,y_test))"
   ]
  },
  {
   "cell_type": "code",
   "execution_count": 78,
   "metadata": {},
   "outputs": [
    {
     "name": "stdout",
     "output_type": "stream",
     "text": [
      "              precision    recall  f1-score   support\n",
      "\n",
      "           0       0.69      0.67      0.68     17460\n",
      "           1       0.68      0.70      0.69     17540\n",
      "\n",
      "    accuracy                           0.68     35000\n",
      "   macro avg       0.68      0.68      0.68     35000\n",
      "weighted avg       0.68      0.68      0.68     35000\n",
      "\n"
     ]
    }
   ],
   "source": [
    "# Printing classification report for predictions made by model on training dataset\n",
    "print(classification_report(y_true=y_train,y_pred=(ann1.predict(X_train)>0.5).astype(int)))"
   ]
  },
  {
   "cell_type": "code",
   "execution_count": 79,
   "metadata": {},
   "outputs": [
    {
     "name": "stdout",
     "output_type": "stream",
     "text": [
      "              precision    recall  f1-score   support\n",
      "\n",
      "           0       0.69      0.67      0.68      7540\n",
      "           1       0.68      0.70      0.69      7460\n",
      "\n",
      "    accuracy                           0.68     15000\n",
      "   macro avg       0.68      0.68      0.68     15000\n",
      "weighted avg       0.68      0.68      0.68     15000\n",
      "\n"
     ]
    }
   ],
   "source": [
    "# Printing classification report for predictions made by model on validation dataset\n",
    "print(classification_report(y_true=y_test,y_pred=(ann1.predict(X_test)>0.5).astype(int)))"
   ]
  },
  {
   "cell_type": "markdown",
   "metadata": {},
   "source": [
    "#### Generating the AUC-ROC curve for the ANN model\n",
    "\n",
    "- The AUC-ROC score that we get from the graph that we have plotted below tells us that our model is able to distinguish between the visa applications, if they will be certified or denied, 75.2% of the time\n",
    "\n",
    "- The score is above 50% which means that the model is not just randomly predicting the probability of an application being certified or denied"
   ]
  },
  {
   "cell_type": "code",
   "execution_count": 81,
   "metadata": {},
   "outputs": [
    {
     "name": "stdout",
     "output_type": "stream",
     "text": [
      "No Skill: ROC AUC=0.500\n",
      "Decision Tree: ROC AUC=0.752\n"
     ]
    },
    {
     "data": {
      "image/png": "[encoded data removed]",
      "text/plain": [
       "<Figure size 576x288 with 1 Axes>"
      ]
     },
     "metadata": {
      "needs_background": "light"
     },
     "output_type": "display_data"
    }
   ],
   "source": [
    "# plot AUC curve \n",
    "ROC_AUC_curve_upgraded(model=ann1,model_name=\"ANN\")"
   ]
  },
  {
   "cell_type": "markdown",
   "metadata": {},
   "source": [
    "## Conclusion\n",
    "\n",
    "- To conclude, we can say that through this research work, we have developed a system that can effectively predict binary outcomes of permanent visa applications\n",
    "\n",
    "- Random Forest and Gradient Boosting Classifiers work really well with the visa dataset and should be the focus of further improvements as more data is gathered\n",
    "\n",
    "- pw_soc_code (occupational code associated with the job), pw_amount_9089 (income associated with the job), employer_postal_code (major cities may have higher acceptance rate) are some of the major attributes helpful in predicting the visa application decisions"
   ]
  },
  {
   "cell_type": "code",
   "execution_count": 3,
   "metadata": {},
   "outputs": [],
   "source": [
    "# Creating a summary table for the model names, their recall, auc, accuracy scores and their best hyper parameters\n",
    "best_models = pd.DataFrame({\"Algorithm\":[\"LR\",\"RF\",\"GBM\",\"LSVM\",\"ANN\"], \"Recall\":[64,78,77,64,70],\n",
    "                            \"AUC\":[71.3,88.8,87.8,'-',75.2], 'Accuracy':[66,80,80,66,68],\n",
    "                            'Precision':[70,84,85,70,68],\n",
    "                            'F1-Score':[67,81,81,67,69],\n",
    "                            \"Best Hyper-parameters\":[\"C:0.005,penalty:l1\",\n",
    "                                                     \"max_depth:100,max_features:auto,min_samples_leaf:10,min_samples_split:10,n_estimators:200\",\n",
    "                                                     \"max_depth:10,max_features:auto,min_samples_leaf:10,min_samples_split:25,n_estimators:20,subsample:0.9\",\n",
    "                                                     \"C:0.005,loss:hinge,penalty:l2\",\n",
    "                                               \"epochs:10,batch_size:20,loss_function:binary_crossentrpy,optimizer:adam\",\n",
    "                                               ]})"
   ]
  },
  {
   "cell_type": "code",
   "execution_count": 4,
   "metadata": {},
   "outputs": [
    {
     "data": {
      "text/html": [
       "<div>\n",
       "<style scoped>\n",
       "    .dataframe tbody tr th:only-of-type {\n",
       "        vertical-align: middle;\n",
       "    }\n",
       "\n",
       "    .dataframe tbody tr th {\n",
       "        vertical-align: top;\n",
       "    }\n",
       "\n",
       "    .dataframe thead th {\n",
       "        text-align: right;\n",
       "    }\n",
       "</style>\n",
       "<table border=\"1\" class=\"dataframe\">\n",
       "  <thead>\n",
       "    <tr style=\"text-align: right;\">\n",
       "      <th></th>\n",
       "      <th>Algorithm</th>\n",
       "      <th>Recall</th>\n",
       "      <th>AUC</th>\n",
       "      <th>Accuracy</th>\n",
       "      <th>Precision</th>\n",
       "      <th>F1-Score</th>\n",
       "      <th>Best Hyper-parameters</th>\n",
       "    </tr>\n",
       "  </thead>\n",
       "  <tbody>\n",
       "    <tr>\n",
       "      <th>1</th>\n",
       "      <td>RF</td>\n",
       "      <td>78</td>\n",
       "      <td>88.8</td>\n",
       "      <td>80</td>\n",
       "      <td>84</td>\n",
       "      <td>81</td>\n",
       "      <td>max_depth:100,max_features:auto,min_samples_le...</td>\n",
       "    </tr>\n",
       "    <tr>\n",
       "      <th>2</th>\n",
       "      <td>GBM</td>\n",
       "      <td>77</td>\n",
       "      <td>87.8</td>\n",
       "      <td>80</td>\n",
       "      <td>85</td>\n",
       "      <td>81</td>\n",
       "      <td>max_depth:10,max_features:auto,min_samples_lea...</td>\n",
       "    </tr>\n",
       "    <tr>\n",
       "      <th>4</th>\n",
       "      <td>ANN</td>\n",
       "      <td>70</td>\n",
       "      <td>75.2</td>\n",
       "      <td>68</td>\n",
       "      <td>68</td>\n",
       "      <td>69</td>\n",
       "      <td>epochs:10,batch_size:20,loss_function:binary_c...</td>\n",
       "    </tr>\n",
       "    <tr>\n",
       "      <th>0</th>\n",
       "      <td>LR</td>\n",
       "      <td>64</td>\n",
       "      <td>71.3</td>\n",
       "      <td>66</td>\n",
       "      <td>70</td>\n",
       "      <td>67</td>\n",
       "      <td>C:0.005,penalty:l1</td>\n",
       "    </tr>\n",
       "    <tr>\n",
       "      <th>3</th>\n",
       "      <td>LSVM</td>\n",
       "      <td>64</td>\n",
       "      <td>-</td>\n",
       "      <td>66</td>\n",
       "      <td>70</td>\n",
       "      <td>67</td>\n",
       "      <td>C:0.005,loss:hinge,penalty:l2</td>\n",
       "    </tr>\n",
       "  </tbody>\n",
       "</table>\n",
       "</div>"
      ],
      "text/plain": [
       "  Algorithm  Recall   AUC  Accuracy  Precision  F1-Score  \\\n",
       "1        RF      78  88.8        80         84        81   \n",
       "2       GBM      77  87.8        80         85        81   \n",
       "4       ANN      70  75.2        68         68        69   \n",
       "0        LR      64  71.3        66         70        67   \n",
       "3      LSVM      64     -        66         70        67   \n",
       "\n",
       "                               Best Hyper-parameters  \n",
       "1  max_depth:100,max_features:auto,min_samples_le...  \n",
       "2  max_depth:10,max_features:auto,min_samples_lea...  \n",
       "4  epochs:10,batch_size:20,loss_function:binary_c...  \n",
       "0                                 C:0.005,penalty:l1  \n",
       "3                      C:0.005,loss:hinge,penalty:l2  "
      ]
     },
     "execution_count": 4,
     "metadata": {},
     "output_type": "execute_result"
    }
   ],
   "source": [
    "# Printing the best_models summary table sorted by F1-scores\n",
    "best_models.sort_values(by=\"F1-Score\",ascending=False)"
   ]
  }
 ],
 "metadata": {
  "kernelspec": {
   "display_name": "Python 3",
   "language": "python",
   "name": "python3"
  },
  "language_info": {
   "codemirror_mode": {
    "name": "ipython",
    "version": 3
   },
   "file_extension": ".py",
   "mimetype": "text/x-python",
   "name": "python",
   "nbconvert_exporter": "python",
   "pygments_lexer": "ipython3",
   "version": "3.7.7"
  }
 },
 "nbformat": 4,
 "nbformat_minor": 4
}
